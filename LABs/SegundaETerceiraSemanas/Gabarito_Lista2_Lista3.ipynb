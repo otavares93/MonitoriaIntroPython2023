{
  "nbformat": 4,
  "nbformat_minor": 0,
  "metadata": {
    "colab": {
      "provenance": []
    },
    "kernelspec": {
      "name": "python3",
      "display_name": "Python 3"
    },
    "language_info": {
      "name": "python"
    }
  },
  "cells": [
    {
      "cell_type": "markdown",
      "source": [
        "LISTA 2: Vamos trabalhar conceitos de escrita e exportacao de arquivos"
      ],
      "metadata": {
        "id": "oGKEkB4QjwSY"
      }
    },
    {
      "cell_type": "markdown",
      "source": [
        "Questão 1) Crie um dicionário que contenha listas, chamado **Treino_Validacao**, com 5 linhas e as variáveis chave **individuo**, com nomes criados por você, **idade**, idades criadas por voce, e **classe**, com uma variavel binaria 0 ou 1 para cada individudo.\n",
        "\n",
        "\n",
        "\n",
        "*   a) Utilize o modulo random para fazer um *split* dos dados de modo a separar o dicionário em questão em dois conjuntos o primeiro com 80% dos dados e o segundo com 20% dos dados.\n",
        "*   b) Escreva os índices de ambos os grupos do dicionário em uma unica lista e guarde como arquivo **pkl**\n",
        "*   c) Escreva o dicionário em **txt**.\n",
        "\n"
      ],
      "metadata": {
        "id": "ECSU7x2hj8SI"
      }
    },
    {
      "cell_type": "markdown",
      "source": [
        "Importante. Se você estiver no google colab, você se conectar ao seu google drive neste momento, para poder escrever e importar informacoes na sua pasta na nuvem a partir do python do google colab."
      ],
      "metadata": {
        "id": "c63yHdTWgRYM"
      }
    },
    {
      "cell_type": "code",
      "source": [
        "from google.colab import drive\n",
        "drive.mount('/content/gdrive')"
      ],
      "metadata": {
        "colab": {
          "base_uri": "https://localhost:8080/"
        },
        "id": "o0gMKqB-gQeq",
        "outputId": "f5e9f319-4579-4306-893d-d6ce2f5c644a"
      },
      "execution_count": null,
      "outputs": [
        {
          "output_type": "stream",
          "name": "stdout",
          "text": [
            "Mounted at /content/gdrive\n"
          ]
        }
      ]
    },
    {
      "cell_type": "code",
      "source": [
        "import os\n",
        "os.chdir('/content/gdrive/MyDrive/Introducao_Python_2023_LABs_Alunos')"
      ],
      "metadata": {
        "id": "cW2hJ7a2hrFe"
      },
      "execution_count": null,
      "outputs": []
    },
    {
      "cell_type": "code",
      "source": [
        "!ls"
      ],
      "metadata": {
        "colab": {
          "base_uri": "https://localhost:8080/"
        },
        "id": "a1ZAyxRog9O0",
        "outputId": "67d40bd2-03b5-4718-ef70-5226435bcb22"
      },
      "execution_count": null,
      "outputs": [
        {
          "output_type": "stream",
          "name": "stdout",
          "text": [
            "gdrive\tsample_data\n"
          ]
        }
      ]
    },
    {
      "cell_type": "markdown",
      "source": [
        "a) Utilize o modulo random para fazer um split dos dados de modo a separar o dicionário em questão em dois conjuntos o primeiro com 80% dos dados e o segundo com 20% dos dados."
      ],
      "metadata": {
        "id": "ag6gKTVCdvoO"
      }
    },
    {
      "cell_type": "markdown",
      "source": [
        "Criando o dicionário e imprimindo-o"
      ],
      "metadata": {
        "id": "7L_R1CU8UT5h"
      }
    },
    {
      "cell_type": "code",
      "source": [
        "treino_validacao = {'individuo' : ['aristoteles', 'hegel', 'platao', 'socrates', 'nietzsche'],'idade' : [15, 25, 10, 45, 55], 'classe' : [0, 0 , 1, 1, 0]}\n",
        "print('Este é o meu dicionário fictício de análise %s:' %  (treino_validacao))"
      ],
      "metadata": {
        "colab": {
          "base_uri": "https://localhost:8080/"
        },
        "id": "hhZnNr6_M_Gc",
        "outputId": "3f161b12-48e5-478c-dc4e-b6eaf5c68b4f"
      },
      "execution_count": null,
      "outputs": [
        {
          "output_type": "stream",
          "name": "stdout",
          "text": [
            "Este é o meu dicionário fictício de análise {'individuo': ['aristoteles', 'hegel', 'platao', 'socrates', 'nietzsche'], 'idade': [15, 25, 10, 45, 55], 'classe': [0, 0, 1, 1, 0]}:\n"
          ]
        }
      ]
    },
    {
      "cell_type": "code",
      "source": [
        "import random\n",
        "\n",
        "#Calculando os indices a partir do modulo aleatorio para o conjunto de treino e para o conjunto de validacao\n",
        "indices_treino = random.sample(range(0, len(treino_validacao['individuo'])), int(0.8 * len(treino_validacao['individuo'])))\n",
        "indices_val = [idx for idx  in range(len(treino_validacao['individuo'])) if idx not in indices_treino]\n",
        "print('Esses são os indices de treinamento: %s. Enquanto esses são os indices de validacao: %s' % (indices_treino, indices_val))\n",
        "\n",
        "#construindo o conjunto de treino\n",
        "treino = {}\n",
        "val = {}\n",
        "for k in treino_validacao.keys():\n",
        "  treino[k] = [treino_validacao[k][idx] for idx in indices_treino]\n",
        "  val[k] = [treino_validacao[k][idx] for idx in indices_val]\n",
        "\n",
        "print('Esses é o dicionario de treinamento: %s. Enquanto esses é o dicionario de validacao: %s' % (treino, val))"
      ],
      "metadata": {
        "colab": {
          "base_uri": "https://localhost:8080/"
        },
        "id": "-bm7fAzaUs9m",
        "outputId": "397899bf-9dcf-4a36-f2e9-d27a27ac0a8a"
      },
      "execution_count": null,
      "outputs": [
        {
          "output_type": "stream",
          "name": "stdout",
          "text": [
            "Esses são os indices de treinamento: [0, 3, 4, 1]. Enquanto esses são os indices de validacao: [2]\n",
            "Esses é o dicionario de treinamento: {'individuo': ['aristoteles', 'socrates', 'nietzsche', 'hegel'], 'idade': [15, 45, 55, 25], 'classe': [0, 1, 0, 0]}. Enquanto esses é o dicionario de validacao: {'individuo': ['platao'], 'idade': [10], 'classe': [1]}\n"
          ]
        }
      ]
    },
    {
      "cell_type": "markdown",
      "source": [
        "b) Escreva os índices de ambos os grupos do dicionário em uma unica lista e guarde como arquivo pkl"
      ],
      "metadata": {
        "id": "qOrgt4phd0yr"
      }
    },
    {
      "cell_type": "code",
      "source": [
        "import pickle\n",
        "treino_val_indices = [indices_treino, indices_val]\n",
        "treino_val_file = open(\"treino_val_indices.pkl\", \"wb\")\n",
        "pickle.dump(treino_val_indices, treino_val_file)\n",
        "treino_val_file.close()"
      ],
      "metadata": {
        "id": "X93_7RFld4r2"
      },
      "execution_count": null,
      "outputs": []
    },
    {
      "cell_type": "markdown",
      "source": [
        "c) Escreva o dicionário em **txt**."
      ],
      "metadata": {
        "id": "6RgJ5URkh75v"
      }
    },
    {
      "cell_type": "code",
      "source": [
        "with open(\"treino_val_dados.txt\", 'w') as f: \n",
        "    for key, value in treino_validacao.items(): \n",
        "        f.write('%s:%s\\n' % (key, value))"
      ],
      "metadata": {
        "id": "mb2iUTYVh7aX"
      },
      "execution_count": null,
      "outputs": []
    },
    {
      "cell_type": "markdown",
      "source": [
        "LISTA 3 : Vamos trabalhar conceitos de for, def e interagir com a biblioteca turtle adpatada ao colab"
      ],
      "metadata": {
        "id": "7G6gpOawJ1Yq"
      }
    },
    {
      "cell_type": "markdown",
      "source": [
        "Installe a biblioteca turtle adaptada ao Colab"
      ],
      "metadata": {
        "id": "F9u697XVb_S3"
      }
    },
    {
      "cell_type": "code",
      "source": [
        "!pip3 install ColabTurtlePlus"
      ],
      "metadata": {
        "id": "bsUj9XFmb6p8",
        "colab": {
          "base_uri": "https://localhost:8080/"
        },
        "outputId": "aa9625f3-1525-4ce6-8e66-7ea092afb0e2"
      },
      "execution_count": null,
      "outputs": [
        {
          "output_type": "stream",
          "name": "stdout",
          "text": [
            "Looking in indexes: https://pypi.org/simple, https://us-python.pkg.dev/colab-wheels/public/simple/\n",
            "Collecting ColabTurtlePlus\n",
            "  Downloading ColabTurtlePlus-2.0.1-py3-none-any.whl (31 kB)\n",
            "Installing collected packages: ColabTurtlePlus\n",
            "Successfully installed ColabTurtlePlus-2.0.1\n"
          ]
        }
      ]
    },
    {
      "cell_type": "markdown",
      "source": [
        "1) Crie uma função fat(**n**) que compute fatoriais para um dado inteiro **n**.\n",
        "\n",
        "\n",
        "\n",
        "*   Letra a) Defina a solução de forma iterativa, isto é, usando laços (for e while).\n",
        "*   Letra b) Defina a solução de forma recursiva, isto é, utilizando a própria função definida em passos anteriores. (Dica: Utilize seus conhecimentos de indução adiquiridos em fundamentos de matemática)\n",
        "\n",
        "\n",
        "\n"
      ],
      "metadata": {
        "id": "zgvUWVP9HN12"
      }
    },
    {
      "cell_type": "markdown",
      "source": [
        "Questão 1) Letra a) Defina a solução de forma iterativa, isto é, usando laços (for e while)."
      ],
      "metadata": {
        "id": "6mIecGG6IHX7"
      }
    },
    {
      "cell_type": "code",
      "source": [
        "def fac(n):\n",
        "  x = 1\n",
        "  for i in range(1, n+1):\n",
        "    x = x * i\n",
        "  return x\n",
        "fac(3)"
      ],
      "metadata": {
        "colab": {
          "base_uri": "https://localhost:8080/"
        },
        "id": "S1aAPuiPIMxA",
        "outputId": "d3e6475a-5e46-4bdd-a5dc-41ad7dce3cab"
      },
      "execution_count": null,
      "outputs": [
        {
          "output_type": "execute_result",
          "data": {
            "text/plain": [
              "6"
            ]
          },
          "metadata": {},
          "execution_count": 16
        }
      ]
    },
    {
      "cell_type": "markdown",
      "source": [
        "Questão 1) Letra b) Defina a solução de forma recursiva, isto é, utilizando a própria função definida em passos anteriores. (Dica: Utilize seus conhecimentos de indução adiquiridos em fundamentos de matemática)"
      ],
      "metadata": {
        "id": "S8BcZnEjIwBM"
      }
    },
    {
      "cell_type": "code",
      "source": [
        "def fac(n):\n",
        "  if n == 0:\n",
        "    return 1\n",
        "  else:\n",
        "    return n * fac(n-1)\n",
        "fac(3)"
      ],
      "metadata": {
        "colab": {
          "base_uri": "https://localhost:8080/"
        },
        "id": "2q7TySvrIvaD",
        "outputId": "92f1f6ec-d79e-4753-9b31-7806fa133147"
      },
      "execution_count": null,
      "outputs": [
        {
          "output_type": "execute_result",
          "data": {
            "text/plain": [
              "6"
            ]
          },
          "metadata": {},
          "execution_count": 13
        }
      ]
    },
    {
      "cell_type": "markdown",
      "source": [
        "Questao 2) Defina uma função recursiva que calcule a sequência de fibonacci, isto é:\n",
        "\n",
        "\n",
        "\n",
        "*   Dado um inteiro **n**\n",
        "*   Calcule f(n) = f(n - 1) + f(n - 2), sendo f(0) = 0, f(1) = 1\n",
        "\n"
      ],
      "metadata": {
        "id": "ZtvhMU0NWD1S"
      }
    },
    {
      "cell_type": "code",
      "source": [
        "def fibo(n):\n",
        "  if n == 0 :\n",
        "    return 0\n",
        "  elif n == 1:\n",
        "    return 1\n",
        "  else:\n",
        "    return fibo( n - 1 ) + fibo( n - 2 )\n",
        "fibo(5)"
      ],
      "metadata": {
        "colab": {
          "base_uri": "https://localhost:8080/"
        },
        "id": "mqwjce_aWDIn",
        "outputId": "47af4a6f-c004-4c8b-bfbf-0cb0d47ee0c6"
      },
      "execution_count": null,
      "outputs": [
        {
          "output_type": "execute_result",
          "data": {
            "text/plain": [
              "5"
            ]
          },
          "metadata": {},
          "execution_count": 12
        }
      ]
    },
    {
      "cell_type": "markdown",
      "source": [
        "Questão 3) Utilize a biblioteca turtle ou ColabTurtlePlus para criar uma função chamada quadradoFatorial. Esta função deve desenhar quadrados com lado crescente de acordo com a função fatorial, isto é:\n",
        "\n",
        "\n",
        "\n",
        "*   Dado n, o primeiro quadrado terá lado n\n",
        "*   O segundo terá lado n . (n-1), e assim por diante ...\n",
        "*   Na sua função insira um parâmetro denominado fator, que possa aumentar ou diminuir o tamanho do quadrado caso seja do seu interesse.\n",
        "\n",
        "\n",
        "\n"
      ],
      "metadata": {
        "id": "SsOcF1EBWdyg"
      }
    },
    {
      "cell_type": "code",
      "source": [
        "import ColabTurtlePlus.Turtle as t\n",
        "def fac(n):\n",
        "  if n == 0:\n",
        "    return 1\n",
        "  else:\n",
        "    return n * fac(n-1)\n",
        "\n",
        "def desenhaQuadrado(lado, fator):\n",
        "  \n",
        "  factor = fator\n",
        "  #if lado < 10:\n",
        "  #  factor *= 10\n",
        "  #elif lado > 200:\n",
        "  #  factor /= 10\n",
        "  t.forward(factor * lado)\n",
        "  t.left(90)\n",
        "  t.forward(factor * lado)\n",
        "  t.left(90)\n",
        "  t.forward(factor * lado)\n",
        "  t.left(90)\n",
        "  t.forward(factor *lado)\n",
        "  t.left(90)\n",
        "\n",
        "def quadradoFatorial(n, fator):\n",
        "  t.initializeTurtle()\n",
        "  for x in range(n):\n",
        "    n_desenho = fac(x)\n",
        "    print(n_desenho)\n",
        "    desenhaQuadrado(n_desenho, fator)\n",
        "n = eval(input('Insira o inteiro partida de seu valor fatorial: '))\n",
        "quadradoFatorial(n, 1)\n",
        "\n"
      ],
      "metadata": {
        "colab": {
          "base_uri": "https://localhost:8080/",
          "height": 778
        },
        "id": "0TysewieW2OC",
        "outputId": "b5bd0ae7-9592-4102-9827-4b0a62bac33d"
      },
      "execution_count": null,
      "outputs": [
        {
          "name": "stdout",
          "output_type": "stream",
          "text": [
            "Insira o inteiro partida de seu valor fatorial: 8\n"
          ]
        },
        {
          "output_type": "display_data",
          "data": {
            "text/plain": [
              "<IPython.core.display.HTML object>"
            ],
            "text/html": [
              "\n",
              "      <svg width=\"800\" height=\"600\">  \n",
              "        <rect width=\"100%\" height=\"100%\" style=\"fill:white;stroke:;stroke-width:1\"/>\n",
              "        \n",
              "        \n",
              "        <line x1=\"400.0\" y1=\"300.0\" x2=\"401.0\" y2=\"300.0\" stroke-linecap=\"round\" style=\"stroke:black;stroke-width:1\" /><line x1=\"401.0\" y1=\"300.0\" x2=\"401.0\" y2=\"299.0\" stroke-linecap=\"round\" style=\"stroke:black;stroke-width:1\" /><line x1=\"401.0\" y1=\"299.0\" x2=\"400.0\" y2=\"299.0\" stroke-linecap=\"round\" style=\"stroke:black;stroke-width:1\" /><line x1=\"400.0\" y1=\"299.0\" x2=\"400.0\" y2=\"300.0\" stroke-linecap=\"round\" style=\"stroke:black;stroke-width:1\" /><line x1=\"400.0\" y1=\"300.0\" x2=\"401.0\" y2=\"300.0\" stroke-linecap=\"round\" style=\"stroke:black;stroke-width:1\" /><line x1=\"401.0\" y1=\"300.0\" x2=\"401.0\" y2=\"299.0\" stroke-linecap=\"round\" style=\"stroke:black;stroke-width:1\" /><line x1=\"401.0\" y1=\"299.0\" x2=\"400.0\" y2=\"299.0\" stroke-linecap=\"round\" style=\"stroke:black;stroke-width:1\" /><line x1=\"400.0\" y1=\"299.0\" x2=\"400.0\" y2=\"300.0\" stroke-linecap=\"round\" style=\"stroke:black;stroke-width:1\" /><line x1=\"400.0\" y1=\"300.0\" x2=\"402.0\" y2=\"300.0\" stroke-linecap=\"round\" style=\"stroke:black;stroke-width:1\" /><line x1=\"402.0\" y1=\"300.0\" x2=\"402.0\" y2=\"298.0\" stroke-linecap=\"round\" style=\"stroke:black;stroke-width:1\" /><line x1=\"402.0\" y1=\"298.0\" x2=\"400.0\" y2=\"298.0\" stroke-linecap=\"round\" style=\"stroke:black;stroke-width:1\" /><line x1=\"400.0\" y1=\"298.0\" x2=\"400.0\" y2=\"300.0\" stroke-linecap=\"round\" style=\"stroke:black;stroke-width:1\" /><line x1=\"400.0\" y1=\"300.0\" x2=\"406.0\" y2=\"300.0\" stroke-linecap=\"round\" style=\"stroke:black;stroke-width:1\" /><line x1=\"406.0\" y1=\"300.0\" x2=\"406.0\" y2=\"294.0\" stroke-linecap=\"round\" style=\"stroke:black;stroke-width:1\" /><line x1=\"406.0\" y1=\"294.0\" x2=\"400.0\" y2=\"294.0\" stroke-linecap=\"round\" style=\"stroke:black;stroke-width:1\" /><line x1=\"400.0\" y1=\"294.0\" x2=\"400.0\" y2=\"300.0\" stroke-linecap=\"round\" style=\"stroke:black;stroke-width:1\" /><line x1=\"400.0\" y1=\"300.0\" x2=\"424.0\" y2=\"300.0\" stroke-linecap=\"round\" style=\"stroke:black;stroke-width:1\" /><line x1=\"424.0\" y1=\"300.0\" x2=\"424.0\" y2=\"276.0\" stroke-linecap=\"round\" style=\"stroke:black;stroke-width:1\" /><line x1=\"424.0\" y1=\"276.0\" x2=\"400.0\" y2=\"276.0\" stroke-linecap=\"round\" style=\"stroke:black;stroke-width:1\" /><line x1=\"400.0\" y1=\"276.0\" x2=\"400.0\" y2=\"300.0\" stroke-linecap=\"round\" style=\"stroke:black;stroke-width:1\" /><line x1=\"400.0\" y1=\"300.0\" x2=\"520.0\" y2=\"300.0\" stroke-linecap=\"round\" style=\"stroke:black;stroke-width:1\" /><line x1=\"520.0\" y1=\"300.0\" x2=\"520.0\" y2=\"180.0\" stroke-linecap=\"round\" style=\"stroke:black;stroke-width:1\" /><line x1=\"520.0\" y1=\"180.0\" x2=\"400.0\" y2=\"180.0\" stroke-linecap=\"round\" style=\"stroke:black;stroke-width:1\" /><line x1=\"400.0\" y1=\"180.0\" x2=\"400.0\" y2=\"300.0\" stroke-linecap=\"round\" style=\"stroke:black;stroke-width:1\" /><line x1=\"400.0\" y1=\"300.0\" x2=\"1120.0\" y2=\"300.0\" stroke-linecap=\"round\" style=\"stroke:black;stroke-width:1\" /><line x1=\"1120.0\" y1=\"300.0\" x2=\"1120.0\" y2=\"-420.0\" stroke-linecap=\"round\" style=\"stroke:black;stroke-width:1\" /><line x1=\"1120.0\" y1=\"-420.0\" x2=\"400.0\" y2=\"-420.0\" stroke-linecap=\"round\" style=\"stroke:black;stroke-width:1\" /><line x1=\"400.0\" y1=\"-420.0\" x2=\"400.0\" y2=\"300.0\" stroke-linecap=\"round\" style=\"stroke:black;stroke-width:1\" /><line x1=\"400.0\" y1=\"300.0\" x2=\"5440.0\" y2=\"300.0\" stroke-linecap=\"round\" style=\"stroke:black;stroke-width:1\" /><line x1=\"5440.0\" y1=\"300.0\" x2=\"5440.0\" y2=\"-4740.0\" stroke-linecap=\"round\" style=\"stroke:black;stroke-width:1\" /><line x1=\"5440.0\" y1=\"-4740.0\" x2=\"400.0\" y2=\"-4740.0\" stroke-linecap=\"round\" style=\"stroke:black;stroke-width:1\" /><line x1=\"400.0\" y1=\"-4740.0\" x2=\"400.0\" y2=\"300.0\" stroke-linecap=\"round\" style=\"stroke:black;stroke-width:1\" />\n",
              "        \n",
              "        \n",
              "        <g id=\"classic\" visibility=\"visible\" transform=\"rotate(0,400.0,300.0) translate(400.0, 300.0)\">\n",
              "<polygon points=\"-5,-4.5 0,-2.5 5,-4.5 0,4.5\" transform=\"skewX(0) scale(1,1)\" style=\"stroke:black;fill:black;stroke-width:1\" />\n",
              "<animateTransform id = \"one\" attributeName=\"transform\" \n",
              "                      type=\"scale\"\n",
              "                      from=\"1 1\" to=\"1 1\"\n",
              "                      begin=\"0s\" dur=\"0.01s\"\n",
              "                      repeatCount=\"1\"\n",
              "                      additive=\"sum\"\n",
              "                      fill=\"freeze\"\n",
              "                /><animateTransform attributeName=\"transform\"\n",
              "                    type=\"rotate\"\n",
              "                    from=\"0 0 0\" to =\"-90 0 0\"\n",
              "                    begin=\"one.end\" dur=\"0.05s\"\n",
              "                    repeatCount=\"1\"\n",
              "                    additive=\"sum\"\n",
              "                    fill=\"freeze\"\n",
              "                /></g>\n",
              "      </svg>\n",
              "    "
            ]
          },
          "metadata": {}
        },
        {
          "output_type": "stream",
          "name": "stdout",
          "text": [
            "1\n",
            "1\n",
            "2\n",
            "6\n",
            "24\n",
            "120\n",
            "720\n",
            "5040\n"
          ]
        }
      ]
    },
    {
      "cell_type": "markdown",
      "source": [
        "Questão 4) Escreva a função aritmetica(), que aceita uma lista de inteiros como entrada e retorna True se eles formarem uma *sequência aritmética*. (Uma sequência de inteiros é uma *sequência aritmética* se a diferença entre os itens consecutivos da lista for sempre a mesma)."
      ],
      "metadata": {
        "id": "BJAZD6VcEqF3"
      }
    },
    {
      "cell_type": "code",
      "source": [
        "#lista = [3, 6, 9]\n",
        "lista = [3, 6, 8]\n",
        "def aritmetica(lista):\n",
        "  tamanho_lista = len(lista)\n",
        "  lista_aritmetica = []\n",
        "  for idx in range(1, tamanho_lista):\n",
        "    diff = lista[ idx ] - lista[ idx - 1 ]\n",
        "    lista_aritmetica.append(diff)\n",
        "  temp = lista_aritmetica[0]\n",
        "  for elem in lista_aritmetica[1:len(lista_aritmetica)]:\n",
        "    if elem != temp:\n",
        "      flag = False\n",
        "    else:\n",
        "      flag = True\n",
        "    temp = elem\n",
        "  return flag\n",
        "\n",
        "aritmetica(lista)\n",
        "\n",
        "\n"
      ],
      "metadata": {
        "colab": {
          "base_uri": "https://localhost:8080/"
        },
        "id": "L7Vwjx22GH9K",
        "outputId": "a3ed481f-70b1-4292-83a7-25650850f796"
      },
      "execution_count": null,
      "outputs": [
        {
          "output_type": "execute_result",
          "data": {
            "text/plain": [
              "False"
            ]
          },
          "metadata": {},
          "execution_count": 31
        }
      ]
    },
    {
      "cell_type": "markdown",
      "source": [
        "Questão Extra) Crie uma função que adapte a sequência de Fibonacci à biblioteca turtle ou ColabTurtlePlus. Isto é, buscamos um programa, que construa o fractal da figura que segue: Lembrando que a formula da sequência de fibonacci é f(**n**) = f(**n - 1**) + f(**n - 2**), sendo f(1) = 1 e f(0) = 1.\n",
        "\n",
        "![fibonacci.png](data:image/png;base64,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)\n",
        "\n",
        "\n",
        "\n",
        "1.   Construa os quadrados que sirvam de base para o crescimento da sequencia de Fibonacci\n",
        "    1.1. Crie o passo Base e pinte os quadrados com a função do turtle\n",
        "    1.2 Posteriomente crie a sequência iterativa de fibonacci enquanto pinta os quadrados com as funções do turtle\n",
        "\n",
        "2.   Redefina a posição da caneta, troque sua cor e simule o desenho da espiral. Para realizar o desenho da espiral, defina o tamanho que se deseja andar nos 90 graus e, passo por passo, 90 vezes até faça o movimento de forma circular.\n",
        "\n",
        "3. Construa uma função que englobe os dois items anteriores\n",
        "\n",
        "\n"
      ],
      "metadata": {
        "id": "NMjk-k2JKXsl"
      }
    },
    {
      "cell_type": "markdown",
      "source": [
        "Questão Extra) Item 1)"
      ],
      "metadata": {
        "id": "czmp10axo8H2"
      }
    },
    {
      "cell_type": "code",
      "source": [
        "t.initializeTurtle()\n",
        "a = 0\n",
        "b = 1\n",
        "square_a = a\n",
        "square_b = b\n",
        "\n",
        "########################################################\n",
        "### Construindo os quadrados de background da imagem ###\n",
        "########################################################\n",
        "\n",
        "# Escolha a cor da caneta para criar os quadrados de fibonacci\n",
        "t.pencolor(\"blue\")\n",
        "\n",
        "\n",
        "#######################################################\n",
        "###           Definindo o passo base                ###\n",
        "#######################################################\n",
        "\n",
        "# Definindo o passo base e desenhando os primeiros quadrados, Como o quadrado 0 tem lado 0, começamos do quadrado 1\n",
        "t.forward(b * factor)\n",
        "t.left(90)\n",
        "t.forward(b * factor)\n",
        "t.left(90)\n",
        "t.forward(b * factor)\n",
        "t.left(90)\n",
        "t.forward(b * factor)\n",
        "\n",
        "# Andando com a série de fibonacci, isto é, guarde o valor de f(n), some os valors de f(n) e f(n - 1) ,substitua o valor de f(n - 1) por f(n)\n",
        "temp = square_b\n",
        "square_b = square_b + square_a\n",
        "square_a = temp\n",
        "\n",
        "######################################################################\n",
        "###Calculando a sequencia de Fibonacci de forma iterativa e gráfica###\n",
        "######################################################################\n",
        "\n",
        "\n",
        "# Utilize o For para desenhar os demais quadrados até chegar o fator n de escolha\n",
        "for i in range(1, n):\n",
        "  t.backward(square_a * factor)\n",
        "  t.right(90)\n",
        "  t.forward(square_b * factor)\n",
        "  t.left(90)\n",
        "  t.forward(square_b * factor)\n",
        "  t.left(90)\n",
        "  t.forward(square_b * factor)\n",
        "\n",
        "  # Partindo para os proximos passos da sequencia de fibonacci\n",
        "  temp = square_b\n",
        "  square_b = square_b + square_a\n",
        "  square_a = temp\n",
        "# Trazendo a caneta do turtle para o ponto de partida do fractal\n",
        "t.penup()\n",
        "t.setposition(factor, 0)\n",
        "t.seth(0)\n",
        "t.pendown()\n"
      ],
      "metadata": {
        "colab": {
          "base_uri": "https://localhost:8080/",
          "height": 621
        },
        "id": "EMyHXLwEo7bB",
        "outputId": "f03f21e4-430c-4b91-b42d-7bdaa0db4633"
      },
      "execution_count": null,
      "outputs": [
        {
          "output_type": "display_data",
          "data": {
            "text/plain": [
              "<IPython.core.display.HTML object>"
            ],
            "text/html": [
              "\n",
              "      <svg width=\"800\" height=\"600\">  \n",
              "        <rect width=\"100%\" height=\"100%\" style=\"fill:white;stroke:;stroke-width:1\"/>\n",
              "        \n",
              "        \n",
              "        <line x1=\"400.0\" y1=\"300.0\" x2=\"410.0\" y2=\"300.0\" stroke-linecap=\"round\" style=\"stroke:blue;stroke-width:1\" /><line x1=\"410.0\" y1=\"300.0\" x2=\"410.0\" y2=\"290.0\" stroke-linecap=\"round\" style=\"stroke:blue;stroke-width:1\" /><line x1=\"410.0\" y1=\"290.0\" x2=\"400.0\" y2=\"290.0\" stroke-linecap=\"round\" style=\"stroke:blue;stroke-width:1\" /><line x1=\"400.0\" y1=\"290.0\" x2=\"400.0\" y2=\"300.0\" stroke-linecap=\"round\" style=\"stroke:blue;stroke-width:1\" /><line x1=\"400.0\" y1=\"300.0\" x2=\"400.0\" y2=\"290.0\" stroke-linecap=\"round\" style=\"stroke:blue;stroke-width:1\" /><line x1=\"400.0\" y1=\"290.0\" x2=\"390.0\" y2=\"290.0\" stroke-linecap=\"round\" style=\"stroke:blue;stroke-width:1\" /><line x1=\"390.0\" y1=\"290.0\" x2=\"390.0\" y2=\"300.0\" stroke-linecap=\"round\" style=\"stroke:blue;stroke-width:1\" /><line x1=\"390.0\" y1=\"300.0\" x2=\"400.0\" y2=\"300.0\" stroke-linecap=\"round\" style=\"stroke:blue;stroke-width:1\" /><line x1=\"400.0\" y1=\"300.0\" x2=\"390.0\" y2=\"300.0\" stroke-linecap=\"round\" style=\"stroke:blue;stroke-width:1\" /><line x1=\"390.0\" y1=\"300.0\" x2=\"390.0\" y2=\"320.0\" stroke-linecap=\"round\" style=\"stroke:blue;stroke-width:1\" /><line x1=\"390.0\" y1=\"320.0\" x2=\"410.0\" y2=\"320.0\" stroke-linecap=\"round\" style=\"stroke:blue;stroke-width:1\" /><line x1=\"410.0\" y1=\"320.0\" x2=\"410.0\" y2=\"300.0\" stroke-linecap=\"round\" style=\"stroke:blue;stroke-width:1\" /><line x1=\"410.0\" y1=\"300.0\" x2=\"410.0\" y2=\"320.0\" stroke-linecap=\"round\" style=\"stroke:blue;stroke-width:1\" /><line x1=\"410.0\" y1=\"320.0\" x2=\"440.0\" y2=\"320.0\" stroke-linecap=\"round\" style=\"stroke:blue;stroke-width:1\" /><line x1=\"440.0\" y1=\"320.0\" x2=\"440.0\" y2=\"290.0\" stroke-linecap=\"round\" style=\"stroke:blue;stroke-width:1\" /><line x1=\"440.0\" y1=\"290.0\" x2=\"410.0\" y2=\"290.0\" stroke-linecap=\"round\" style=\"stroke:blue;stroke-width:1\" />\n",
              "        \n",
              "        \n",
              "        <g id=\"classic\" visibility=\"visible\" transform=\"rotate(90,410.0,300.0) translate(410.0, 300.0)\">\n",
              "<polygon points=\"-5,-4.5 0,-2.5 5,-4.5 0,4.5\" transform=\"skewX(0) scale(1,1)\" style=\"stroke:blue;fill:black;stroke-width:1\" />\n",
              "<animateTransform id = \"one\" attributeName=\"transform\" \n",
              "                      type=\"scale\"\n",
              "                      from=\"1 1\" to=\"1 1\"\n",
              "                      begin=\"0s\" dur=\"0.01s\"\n",
              "                      repeatCount=\"1\"\n",
              "                      additive=\"sum\"\n",
              "                      fill=\"freeze\"\n",
              "                /><animateTransform attributeName=\"transform\"\n",
              "                    type=\"rotate\"\n",
              "                    from=\"0 0 0\" to =\"180 0 0\"\n",
              "                    begin=\"one.end\" dur=\"0.01s\"\n",
              "                    repeatCount=\"1\"\n",
              "                    additive=\"sum\"\n",
              "                    fill=\"freeze\"\n",
              "                /></g>\n",
              "      </svg>\n",
              "    "
            ]
          },
          "metadata": {}
        }
      ]
    },
    {
      "cell_type": "markdown",
      "source": [
        "Questão Extra) Item 3)"
      ],
      "metadata": {
        "id": "lzmMok6Zok0J"
      }
    },
    {
      "cell_type": "code",
      "source": [
        "t.pencolor(\"red\")\n",
        "t.initializeTurtle()\n",
        "for i in range(90):\n",
        "  t.forward(5)\n",
        "  t.left(1)\n"
      ],
      "metadata": {
        "colab": {
          "base_uri": "https://localhost:8080/",
          "height": 621
        },
        "id": "YLKz34JDne_0",
        "outputId": "5ac9bb0b-9aff-4ce3-f0a0-ccbc460ec562"
      },
      "execution_count": null,
      "outputs": [
        {
          "output_type": "display_data",
          "data": {
            "text/plain": [
              "<IPython.core.display.HTML object>"
            ],
            "text/html": [
              "\n",
              "      <svg width=\"800\" height=\"600\">  \n",
              "        <rect width=\"100%\" height=\"100%\" style=\"fill:white;stroke:;stroke-width:1\"/>\n",
              "        \n",
              "        \n",
              "        <line x1=\"400.0\" y1=\"300.0\" x2=\"405.0\" y2=\"300.0\" stroke-linecap=\"round\" style=\"stroke:black;stroke-width:1\" /><line x1=\"405.0\" y1=\"300.0\" x2=\"409.999\" y2=\"299.913\" stroke-linecap=\"round\" style=\"stroke:black;stroke-width:1\" /><line x1=\"409.999\" y1=\"299.913\" x2=\"414.996\" y2=\"299.739\" stroke-linecap=\"round\" style=\"stroke:black;stroke-width:1\" /><line x1=\"414.996\" y1=\"299.739\" x2=\"419.989\" y2=\"299.477\" stroke-linecap=\"round\" style=\"stroke:black;stroke-width:1\" /><line x1=\"419.989\" y1=\"299.477\" x2=\"424.977\" y2=\"299.128\" stroke-linecap=\"round\" style=\"stroke:black;stroke-width:1\" /><line x1=\"424.977\" y1=\"299.128\" x2=\"429.958\" y2=\"298.692\" stroke-linecap=\"round\" style=\"stroke:black;stroke-width:1\" /><line x1=\"429.958\" y1=\"298.692\" x2=\"434.931\" y2=\"298.169\" stroke-linecap=\"round\" style=\"stroke:black;stroke-width:1\" /><line x1=\"434.931\" y1=\"298.169\" x2=\"439.894\" y2=\"297.56\" stroke-linecap=\"round\" style=\"stroke:black;stroke-width:1\" /><line x1=\"439.894\" y1=\"297.56\" x2=\"444.845\" y2=\"296.864\" stroke-linecap=\"round\" style=\"stroke:black;stroke-width:1\" /><line x1=\"444.845\" y1=\"296.864\" x2=\"449.783\" y2=\"296.082\" stroke-linecap=\"round\" style=\"stroke:black;stroke-width:1\" /><line x1=\"449.783\" y1=\"296.082\" x2=\"454.707\" y2=\"295.214\" stroke-linecap=\"round\" style=\"stroke:black;stroke-width:1\" /><line x1=\"454.707\" y1=\"295.214\" x2=\"459.615\" y2=\"294.26\" stroke-linecap=\"round\" style=\"stroke:black;stroke-width:1\" /><line x1=\"459.615\" y1=\"294.26\" x2=\"464.506\" y2=\"293.22\" stroke-linecap=\"round\" style=\"stroke:black;stroke-width:1\" /><line x1=\"464.506\" y1=\"293.22\" x2=\"469.378\" y2=\"292.095\" stroke-linecap=\"round\" style=\"stroke:black;stroke-width:1\" /><line x1=\"469.378\" y1=\"292.095\" x2=\"474.229\" y2=\"290.885\" stroke-linecap=\"round\" style=\"stroke:black;stroke-width:1\" /><line x1=\"474.229\" y1=\"290.885\" x2=\"479.059\" y2=\"289.591\" stroke-linecap=\"round\" style=\"stroke:black;stroke-width:1\" /><line x1=\"479.059\" y1=\"289.591\" x2=\"483.865\" y2=\"288.213\" stroke-linecap=\"round\" style=\"stroke:black;stroke-width:1\" /><line x1=\"483.865\" y1=\"288.213\" x2=\"488.647\" y2=\"286.751\" stroke-linecap=\"round\" style=\"stroke:black;stroke-width:1\" /><line x1=\"488.647\" y1=\"286.751\" x2=\"493.402\" y2=\"285.206\" stroke-linecap=\"round\" style=\"stroke:black;stroke-width:1\" /><line x1=\"493.402\" y1=\"285.206\" x2=\"498.13\" y2=\"283.578\" stroke-linecap=\"round\" style=\"stroke:black;stroke-width:1\" /><line x1=\"498.13\" y1=\"283.578\" x2=\"502.828\" y2=\"281.868\" stroke-linecap=\"round\" style=\"stroke:black;stroke-width:1\" /><line x1=\"502.828\" y1=\"281.868\" x2=\"507.496\" y2=\"280.076\" stroke-linecap=\"round\" style=\"stroke:black;stroke-width:1\" /><line x1=\"507.496\" y1=\"280.076\" x2=\"512.132\" y2=\"278.203\" stroke-linecap=\"round\" style=\"stroke:black;stroke-width:1\" /><line x1=\"512.132\" y1=\"278.203\" x2=\"516.735\" y2=\"276.249\" stroke-linecap=\"round\" style=\"stroke:black;stroke-width:1\" /><line x1=\"516.735\" y1=\"276.249\" x2=\"521.303\" y2=\"274.215\" stroke-linecap=\"round\" style=\"stroke:black;stroke-width:1\" /><line x1=\"521.303\" y1=\"274.215\" x2=\"525.835\" y2=\"272.102\" stroke-linecap=\"round\" style=\"stroke:black;stroke-width:1\" /><line x1=\"525.835\" y1=\"272.102\" x2=\"530.329\" y2=\"269.91\" stroke-linecap=\"round\" style=\"stroke:black;stroke-width:1\" /><line x1=\"530.329\" y1=\"269.91\" x2=\"534.784\" y2=\"267.64\" stroke-linecap=\"round\" style=\"stroke:black;stroke-width:1\" /><line x1=\"534.784\" y1=\"267.64\" x2=\"539.199\" y2=\"265.293\" stroke-linecap=\"round\" style=\"stroke:black;stroke-width:1\" /><line x1=\"539.199\" y1=\"265.293\" x2=\"543.572\" y2=\"262.869\" stroke-linecap=\"round\" style=\"stroke:black;stroke-width:1\" /><line x1=\"543.572\" y1=\"262.869\" x2=\"547.902\" y2=\"260.369\" stroke-linecap=\"round\" style=\"stroke:black;stroke-width:1\" /><line x1=\"547.902\" y1=\"260.369\" x2=\"552.188\" y2=\"257.794\" stroke-linecap=\"round\" style=\"stroke:black;stroke-width:1\" /><line x1=\"552.188\" y1=\"257.794\" x2=\"556.428\" y2=\"255.144\" stroke-linecap=\"round\" style=\"stroke:black;stroke-width:1\" /><line x1=\"556.428\" y1=\"255.144\" x2=\"560.621\" y2=\"252.421\" stroke-linecap=\"round\" style=\"stroke:black;stroke-width:1\" /><line x1=\"560.621\" y1=\"252.421\" x2=\"564.766\" y2=\"249.625\" stroke-linecap=\"round\" style=\"stroke:black;stroke-width:1\" /><line x1=\"564.766\" y1=\"249.625\" x2=\"568.862\" y2=\"246.757\" stroke-linecap=\"round\" style=\"stroke:black;stroke-width:1\" /><line x1=\"568.862\" y1=\"246.757\" x2=\"572.907\" y2=\"243.818\" stroke-linecap=\"round\" style=\"stroke:black;stroke-width:1\" /><line x1=\"572.907\" y1=\"243.818\" x2=\"576.9\" y2=\"240.809\" stroke-linecap=\"round\" style=\"stroke:black;stroke-width:1\" /><line x1=\"576.9\" y1=\"240.809\" x2=\"580.84\" y2=\"237.731\" stroke-linecap=\"round\" style=\"stroke:black;stroke-width:1\" /><line x1=\"580.84\" y1=\"237.731\" x2=\"584.726\" y2=\"234.584\" stroke-linecap=\"round\" style=\"stroke:black;stroke-width:1\" /><line x1=\"584.726\" y1=\"234.584\" x2=\"588.556\" y2=\"231.37\" stroke-linecap=\"round\" style=\"stroke:black;stroke-width:1\" /><line x1=\"588.556\" y1=\"231.37\" x2=\"592.33\" y2=\"228.09\" stroke-linecap=\"round\" style=\"stroke:black;stroke-width:1\" /><line x1=\"592.33\" y1=\"228.09\" x2=\"596.046\" y2=\"224.744\" stroke-linecap=\"round\" style=\"stroke:black;stroke-width:1\" /><line x1=\"596.046\" y1=\"224.744\" x2=\"599.703\" y2=\"221.334\" stroke-linecap=\"round\" style=\"stroke:black;stroke-width:1\" /><line x1=\"599.703\" y1=\"221.334\" x2=\"603.3\" y2=\"217.861\" stroke-linecap=\"round\" style=\"stroke:black;stroke-width:1\" /><line x1=\"603.3\" y1=\"217.861\" x2=\"606.836\" y2=\"214.325\" stroke-linecap=\"round\" style=\"stroke:black;stroke-width:1\" /><line x1=\"606.836\" y1=\"214.325\" x2=\"610.309\" y2=\"210.728\" stroke-linecap=\"round\" style=\"stroke:black;stroke-width:1\" /><line x1=\"610.309\" y1=\"210.728\" x2=\"613.719\" y2=\"207.071\" stroke-linecap=\"round\" style=\"stroke:black;stroke-width:1\" /><line x1=\"613.719\" y1=\"207.071\" x2=\"617.065\" y2=\"203.355\" stroke-linecap=\"round\" style=\"stroke:black;stroke-width:1\" /><line x1=\"617.065\" y1=\"203.355\" x2=\"620.345\" y2=\"199.581\" stroke-linecap=\"round\" style=\"stroke:black;stroke-width:1\" /><line x1=\"620.345\" y1=\"199.581\" x2=\"623.559\" y2=\"195.751\" stroke-linecap=\"round\" style=\"stroke:black;stroke-width:1\" /><line x1=\"623.559\" y1=\"195.751\" x2=\"626.706\" y2=\"191.865\" stroke-linecap=\"round\" style=\"stroke:black;stroke-width:1\" /><line x1=\"626.706\" y1=\"191.865\" x2=\"629.784\" y2=\"187.925\" stroke-linecap=\"round\" style=\"stroke:black;stroke-width:1\" /><line x1=\"629.784\" y1=\"187.925\" x2=\"632.793\" y2=\"183.932\" stroke-linecap=\"round\" style=\"stroke:black;stroke-width:1\" /><line x1=\"632.793\" y1=\"183.932\" x2=\"635.732\" y2=\"179.887\" stroke-linecap=\"round\" style=\"stroke:black;stroke-width:1\" /><line x1=\"635.732\" y1=\"179.887\" x2=\"638.6\" y2=\"175.791\" stroke-linecap=\"round\" style=\"stroke:black;stroke-width:1\" /><line x1=\"638.6\" y1=\"175.791\" x2=\"641.396\" y2=\"171.646\" stroke-linecap=\"round\" style=\"stroke:black;stroke-width:1\" /><line x1=\"641.396\" y1=\"171.646\" x2=\"644.119\" y2=\"167.453\" stroke-linecap=\"round\" style=\"stroke:black;stroke-width:1\" /><line x1=\"644.119\" y1=\"167.453\" x2=\"646.769\" y2=\"163.213\" stroke-linecap=\"round\" style=\"stroke:black;stroke-width:1\" /><line x1=\"646.769\" y1=\"163.213\" x2=\"649.344\" y2=\"158.927\" stroke-linecap=\"round\" style=\"stroke:black;stroke-width:1\" /><line x1=\"649.344\" y1=\"158.927\" x2=\"651.844\" y2=\"154.597\" stroke-linecap=\"round\" style=\"stroke:black;stroke-width:1\" /><line x1=\"651.844\" y1=\"154.597\" x2=\"654.268\" y2=\"150.224\" stroke-linecap=\"round\" style=\"stroke:black;stroke-width:1\" /><line x1=\"654.268\" y1=\"150.224\" x2=\"656.615\" y2=\"145.809\" stroke-linecap=\"round\" style=\"stroke:black;stroke-width:1\" /><line x1=\"656.615\" y1=\"145.809\" x2=\"658.885\" y2=\"141.354\" stroke-linecap=\"round\" style=\"stroke:black;stroke-width:1\" /><line x1=\"658.885\" y1=\"141.354\" x2=\"661.077\" y2=\"136.86\" stroke-linecap=\"round\" style=\"stroke:black;stroke-width:1\" /><line x1=\"661.077\" y1=\"136.86\" x2=\"663.19\" y2=\"132.328\" stroke-linecap=\"round\" style=\"stroke:black;stroke-width:1\" /><line x1=\"663.19\" y1=\"132.328\" x2=\"665.224\" y2=\"127.76\" stroke-linecap=\"round\" style=\"stroke:black;stroke-width:1\" /><line x1=\"665.224\" y1=\"127.76\" x2=\"667.178\" y2=\"123.157\" stroke-linecap=\"round\" style=\"stroke:black;stroke-width:1\" /><line x1=\"667.178\" y1=\"123.157\" x2=\"669.051\" y2=\"118.521\" stroke-linecap=\"round\" style=\"stroke:black;stroke-width:1\" /><line x1=\"669.051\" y1=\"118.521\" x2=\"670.843\" y2=\"113.853\" stroke-linecap=\"round\" style=\"stroke:black;stroke-width:1\" /><line x1=\"670.843\" y1=\"113.853\" x2=\"672.553\" y2=\"109.155\" stroke-linecap=\"round\" style=\"stroke:black;stroke-width:1\" /><line x1=\"672.553\" y1=\"109.155\" x2=\"674.181\" y2=\"104.427\" stroke-linecap=\"round\" style=\"stroke:black;stroke-width:1\" /><line x1=\"674.181\" y1=\"104.427\" x2=\"675.726\" y2=\"99.672\" stroke-linecap=\"round\" style=\"stroke:black;stroke-width:1\" /><line x1=\"675.726\" y1=\"99.672\" x2=\"677.188\" y2=\"94.89\" stroke-linecap=\"round\" style=\"stroke:black;stroke-width:1\" /><line x1=\"677.188\" y1=\"94.89\" x2=\"678.566\" y2=\"90.084\" stroke-linecap=\"round\" style=\"stroke:black;stroke-width:1\" /><line x1=\"678.566\" y1=\"90.084\" x2=\"679.86\" y2=\"85.254\" stroke-linecap=\"round\" style=\"stroke:black;stroke-width:1\" /><line x1=\"679.86\" y1=\"85.254\" x2=\"681.07\" y2=\"80.403\" stroke-linecap=\"round\" style=\"stroke:black;stroke-width:1\" /><line x1=\"681.07\" y1=\"80.403\" x2=\"682.195\" y2=\"75.531\" stroke-linecap=\"round\" style=\"stroke:black;stroke-width:1\" /><line x1=\"682.195\" y1=\"75.531\" x2=\"683.235\" y2=\"70.64\" stroke-linecap=\"round\" style=\"stroke:black;stroke-width:1\" /><line x1=\"683.235\" y1=\"70.64\" x2=\"684.189\" y2=\"65.732\" stroke-linecap=\"round\" style=\"stroke:black;stroke-width:1\" /><line x1=\"684.189\" y1=\"65.732\" x2=\"685.057\" y2=\"60.808\" stroke-linecap=\"round\" style=\"stroke:black;stroke-width:1\" /><line x1=\"685.057\" y1=\"60.808\" x2=\"685.839\" y2=\"55.87\" stroke-linecap=\"round\" style=\"stroke:black;stroke-width:1\" /><line x1=\"685.839\" y1=\"55.87\" x2=\"686.535\" y2=\"50.919\" stroke-linecap=\"round\" style=\"stroke:black;stroke-width:1\" /><line x1=\"686.535\" y1=\"50.919\" x2=\"687.144\" y2=\"45.956\" stroke-linecap=\"round\" style=\"stroke:black;stroke-width:1\" /><line x1=\"687.144\" y1=\"45.956\" x2=\"687.667\" y2=\"40.983\" stroke-linecap=\"round\" style=\"stroke:black;stroke-width:1\" /><line x1=\"687.667\" y1=\"40.983\" x2=\"688.103\" y2=\"36.002\" stroke-linecap=\"round\" style=\"stroke:black;stroke-width:1\" /><line x1=\"688.103\" y1=\"36.002\" x2=\"688.452\" y2=\"31.014\" stroke-linecap=\"round\" style=\"stroke:black;stroke-width:1\" /><line x1=\"688.452\" y1=\"31.014\" x2=\"688.714\" y2=\"26.021\" stroke-linecap=\"round\" style=\"stroke:black;stroke-width:1\" /><line x1=\"688.714\" y1=\"26.021\" x2=\"688.888\" y2=\"21.024\" stroke-linecap=\"round\" style=\"stroke:black;stroke-width:1\" /><line x1=\"688.888\" y1=\"21.024\" x2=\"688.975\" y2=\"16.025\" stroke-linecap=\"round\" style=\"stroke:black;stroke-width:1\" />\n",
              "        \n",
              "        \n",
              "        <g id=\"classic\" visibility=\"visible\" transform=\"rotate(181,688.975,16.025) translate(688.975, 16.025)\">\n",
              "<polygon points=\"-5,-4.5 0,-2.5 5,-4.5 0,4.5\" transform=\"skewX(0) scale(1,1)\" style=\"stroke:black;fill:black;stroke-width:1\" />\n",
              "<animateTransform id = \"one\" attributeName=\"transform\" \n",
              "                      type=\"scale\"\n",
              "                      from=\"1 1\" to=\"1 1\"\n",
              "                      begin=\"0s\" dur=\"0.01s\"\n",
              "                      repeatCount=\"1\"\n",
              "                      additive=\"sum\"\n",
              "                      fill=\"freeze\"\n",
              "                /><animateTransform attributeName=\"transform\"\n",
              "                    type=\"rotate\"\n",
              "                    from=\"0 0 0\" to =\"-1 0 0\"\n",
              "                    begin=\"one.end\" dur=\"5.555555555555556e-05s\"\n",
              "                    repeatCount=\"1\"\n",
              "                    additive=\"sum\"\n",
              "                    fill=\"freeze\"\n",
              "                /></g>\n",
              "      </svg>\n",
              "    "
            ]
          },
          "metadata": {}
        }
      ]
    },
    {
      "cell_type": "markdown",
      "source": [
        "Questão Extra) Item 3) Não se esqueça de instalar os pacotes necessários para a análise. E conjugue as soluções do item 1 com a noção de espiral do item 2. Atenção, no item 2, o aluno também deve adaptar a regra do passo de fibonacci para a construção da espiral.\n",
        "\n"
      ],
      "metadata": {
        "id": "y0j8z7Q9LYaD"
      }
    },
    {
      "cell_type": "code",
      "source": [
        "import ColabTurtlePlus.Turtle as t\n",
        "import math\n",
        "def fiboFIG(n):\n",
        "  a = 0\n",
        "  b = 1\n",
        "  square_a = a\n",
        "  square_b = b\n",
        "\n",
        "  ########################################################\n",
        "  ### Construindo os quadrados de background da imagem ###\n",
        "  ########################################################\n",
        "\n",
        "\t# Escolha a cor da caneta para criar os quadrados de fibonacci\n",
        "  t.pencolor(\"blue\")\n",
        "\n",
        "\n",
        "  #######################################################\n",
        "  ###           Definindo o passo base                ###\n",
        "  #######################################################\n",
        "\n",
        "\t# Definindo o passo base e desenhando os primeiros quadrados, Como o quadrado 0 tem lado 0, começamos do quadrado 1\n",
        "  t.forward(b * factor)\n",
        "  t.left(90)\n",
        "  t.forward(b * factor)\n",
        "  t.left(90)\n",
        "  t.forward(b * factor)\n",
        "  t.left(90)\n",
        "  t.forward(b * factor)\n",
        "\n",
        "\t# Andando com a série de fibonacci, isto é, guarde o valor de f(n), some os valors de f(n) e f(n - 1) ,substitua o valor de f(n - 1) por f(n)\n",
        "  temp = square_b\n",
        "  square_b = square_b + square_a\n",
        "  square_a = temp\n",
        "\t\n",
        "  ######################################################################\n",
        "  ###Calculando a sequencia de Fibonacci de forma iterativa e gráfica###\n",
        "  ######################################################################\n",
        "\n",
        "\n",
        "\t# Utilize o For para desenhar os demais quadrados até chegar o fator n de escolha\n",
        "  for i in range(1, n):\n",
        "    t.backward(square_a * factor)\n",
        "    t.right(90)\n",
        "    t.forward(square_b * factor)\n",
        "    t.left(90)\n",
        "    t.forward(square_b * factor)\n",
        "    t.left(90)\n",
        "    t.forward(square_b * factor)\n",
        "\n",
        "\t\t# Partindo para os proximos passos da sequencia de fibonacci\n",
        "    temp = square_b\n",
        "    square_b = square_b + square_a\n",
        "    square_a = temp\n",
        "  # Trazendo a caneta do turtle para o ponto de partida do fractal\n",
        "  t.penup()\n",
        "  t.setposition(factor, 0)\n",
        "  t.seth(0)\n",
        "  t.pendown()\n",
        "\n",
        "  #####################################################\n",
        "  ### Construindo a espiral do fractal de fibonacci ###\n",
        "  #####################################################\n",
        "\n",
        "\t# Mudando a cor da caneta do turtle\n",
        "  t.pencolor(\"red\")\n",
        "\n",
        "\t# Definindo o plot em espiral do fractal\n",
        "  t.left(90)\n",
        "  for i in range(n):\n",
        "    #Imprima o valor corrente da sequencia de fibonacci para acompanhamento e facilitar a conclusao do exercicio\n",
        "    print(b)\n",
        "    #Tamanho de passo da espiral como funcao do elemento atual da sequencia de fibonacci\n",
        "    fdwd = (math.pi * b * factor) / 2\n",
        "    #Pegando o tamanho do passo como multiplo de 90, isto é, fazendo a conta fdwd = fdwd / 90\n",
        "    fdwd /= 90\n",
        "    for j in range(90):\n",
        "      t.forward(fdwd)\n",
        "      t.left(1)\n",
        "    #Atualizando os valores dos passos baseados na sequencia de fibonacci\n",
        "    temp = a\n",
        "    a = b\n",
        "    b = temp + b\n",
        "\n",
        "\n",
        "# Aqui a variavel factor determina a escala dos quadrados e consequentemente o tamanho do fractal, pois todos os passos são ajustados ao se multiplicar este fator\n",
        "factor = 10\n",
        "#Limpando a pagina turtle antes de iniciar um novo plot\n",
        "# Tomando como input o numero de iteracoes da sequencia fibonacci devera ser realizado\n",
        "n = int(input('Insira o numero de iteracoes de fibonacci a calcular (deve ser > 1): '))\n",
        "t.initializeTurtle()\n",
        "# Chamando a funcao fibonacci iterativamente como funcao do numero 'n' de entrada e plotando a figura\n",
        "# alem de imprimir qual o fator de fibonacci estamos no momento\n",
        "if n > 0:\n",
        "\tprint(\"Serie de fibonacci para os\", n, \"elementos :\")\n",
        "\tt.speed(100)\n",
        "\tfiboFIG(n)\n",
        "\tt.done()\n",
        "else:\n",
        "\tprint(\"Numero de iteracoes deve ser maior que > 0\")\n",
        "\n"
      ],
      "metadata": {
        "colab": {
          "base_uri": "https://localhost:8080/",
          "height": 757
        },
        "id": "b8H1CBuaLvkM",
        "outputId": "262a4e55-029e-40d5-90b7-063d55fcbd7b"
      },
      "execution_count": null,
      "outputs": [
        {
          "name": "stdout",
          "output_type": "stream",
          "text": [
            "Put clearscreen() as the first line in a cell (after the import command) to re-run turtle commands in the cell\n",
            "Insira o numero de iteracoes de fibonacci a calcular (deve ser > 1): 5\n"
          ]
        },
        {
          "output_type": "display_data",
          "data": {
            "text/plain": [
              "<IPython.core.display.HTML object>"
            ],
            "text/html": [
              "\n",
              "      <svg width=\"800\" height=\"600\">  \n",
              "        <rect width=\"100%\" height=\"100%\" style=\"fill:white;stroke:;stroke-width:1\"/>\n",
              "        \n",
              "        \n",
              "        <line x1=\"400.0\" y1=\"300.0\" x2=\"410.0\" y2=\"300.0\" stroke-linecap=\"round\" style=\"stroke:blue;stroke-width:1\" /><line x1=\"410.0\" y1=\"300.0\" x2=\"410.0\" y2=\"290.0\" stroke-linecap=\"round\" style=\"stroke:blue;stroke-width:1\" /><line x1=\"410.0\" y1=\"290.0\" x2=\"400.0\" y2=\"290.0\" stroke-linecap=\"round\" style=\"stroke:blue;stroke-width:1\" /><line x1=\"400.0\" y1=\"290.0\" x2=\"400.0\" y2=\"300.0\" stroke-linecap=\"round\" style=\"stroke:blue;stroke-width:1\" /><line x1=\"400.0\" y1=\"300.0\" x2=\"400.0\" y2=\"290.0\" stroke-linecap=\"round\" style=\"stroke:blue;stroke-width:1\" /><line x1=\"400.0\" y1=\"290.0\" x2=\"390.0\" y2=\"290.0\" stroke-linecap=\"round\" style=\"stroke:blue;stroke-width:1\" /><line x1=\"390.0\" y1=\"290.0\" x2=\"390.0\" y2=\"300.0\" stroke-linecap=\"round\" style=\"stroke:blue;stroke-width:1\" /><line x1=\"390.0\" y1=\"300.0\" x2=\"400.0\" y2=\"300.0\" stroke-linecap=\"round\" style=\"stroke:blue;stroke-width:1\" /><line x1=\"400.0\" y1=\"300.0\" x2=\"390.0\" y2=\"300.0\" stroke-linecap=\"round\" style=\"stroke:blue;stroke-width:1\" /><line x1=\"390.0\" y1=\"300.0\" x2=\"390.0\" y2=\"320.0\" stroke-linecap=\"round\" style=\"stroke:blue;stroke-width:1\" /><line x1=\"390.0\" y1=\"320.0\" x2=\"410.0\" y2=\"320.0\" stroke-linecap=\"round\" style=\"stroke:blue;stroke-width:1\" /><line x1=\"410.0\" y1=\"320.0\" x2=\"410.0\" y2=\"300.0\" stroke-linecap=\"round\" style=\"stroke:blue;stroke-width:1\" /><line x1=\"410.0\" y1=\"300.0\" x2=\"410.0\" y2=\"320.0\" stroke-linecap=\"round\" style=\"stroke:blue;stroke-width:1\" /><line x1=\"410.0\" y1=\"320.0\" x2=\"440.0\" y2=\"320.0\" stroke-linecap=\"round\" style=\"stroke:blue;stroke-width:1\" /><line x1=\"440.0\" y1=\"320.0\" x2=\"440.0\" y2=\"290.0\" stroke-linecap=\"round\" style=\"stroke:blue;stroke-width:1\" /><line x1=\"440.0\" y1=\"290.0\" x2=\"410.0\" y2=\"290.0\" stroke-linecap=\"round\" style=\"stroke:blue;stroke-width:1\" /><line x1=\"410.0\" y1=\"290.0\" x2=\"440.0\" y2=\"290.0\" stroke-linecap=\"round\" style=\"stroke:blue;stroke-width:1\" /><line x1=\"440.0\" y1=\"290.0\" x2=\"440.0\" y2=\"240.0\" stroke-linecap=\"round\" style=\"stroke:blue;stroke-width:1\" /><line x1=\"440.0\" y1=\"240.0\" x2=\"390.0\" y2=\"240.0\" stroke-linecap=\"round\" style=\"stroke:blue;stroke-width:1\" /><line x1=\"390.0\" y1=\"240.0\" x2=\"390.0\" y2=\"290.0\" stroke-linecap=\"round\" style=\"stroke:blue;stroke-width:1\" /><line x1=\"410.0\" y1=\"300.0\" x2=\"410.0\" y2=\"299.825\" stroke-linecap=\"round\" style=\"stroke:red;stroke-width:1\" /><line x1=\"410.0\" y1=\"299.825\" x2=\"409.997\" y2=\"299.65\" stroke-linecap=\"round\" style=\"stroke:red;stroke-width:1\" /><line x1=\"409.997\" y1=\"299.65\" x2=\"409.991\" y2=\"299.476\" stroke-linecap=\"round\" style=\"stroke:red;stroke-width:1\" /><line x1=\"409.991\" y1=\"299.476\" x2=\"409.982\" y2=\"299.302\" stroke-linecap=\"round\" style=\"stroke:red;stroke-width:1\" /><line x1=\"409.982\" y1=\"299.302\" x2=\"409.97\" y2=\"299.128\" stroke-linecap=\"round\" style=\"stroke:red;stroke-width:1\" /><line x1=\"409.97\" y1=\"299.128\" x2=\"409.955\" y2=\"298.954\" stroke-linecap=\"round\" style=\"stroke:red;stroke-width:1\" /><line x1=\"409.955\" y1=\"298.954\" x2=\"409.937\" y2=\"298.78\" stroke-linecap=\"round\" style=\"stroke:red;stroke-width:1\" /><line x1=\"409.937\" y1=\"298.78\" x2=\"409.916\" y2=\"298.607\" stroke-linecap=\"round\" style=\"stroke:red;stroke-width:1\" /><line x1=\"409.916\" y1=\"298.607\" x2=\"409.892\" y2=\"298.434\" stroke-linecap=\"round\" style=\"stroke:red;stroke-width:1\" /><line x1=\"409.892\" y1=\"298.434\" x2=\"409.865\" y2=\"298.262\" stroke-linecap=\"round\" style=\"stroke:red;stroke-width:1\" /><line x1=\"409.865\" y1=\"298.262\" x2=\"409.835\" y2=\"298.09\" stroke-linecap=\"round\" style=\"stroke:red;stroke-width:1\" /><line x1=\"409.835\" y1=\"298.09\" x2=\"409.802\" y2=\"297.919\" stroke-linecap=\"round\" style=\"stroke:red;stroke-width:1\" /><line x1=\"409.802\" y1=\"297.919\" x2=\"409.766\" y2=\"297.748\" stroke-linecap=\"round\" style=\"stroke:red;stroke-width:1\" /><line x1=\"409.766\" y1=\"297.748\" x2=\"409.727\" y2=\"297.578\" stroke-linecap=\"round\" style=\"stroke:red;stroke-width:1\" /><line x1=\"409.727\" y1=\"297.578\" x2=\"409.685\" y2=\"297.409\" stroke-linecap=\"round\" style=\"stroke:red;stroke-width:1\" /><line x1=\"409.685\" y1=\"297.409\" x2=\"409.64\" y2=\"297.24\" stroke-linecap=\"round\" style=\"stroke:red;stroke-width:1\" /><line x1=\"409.64\" y1=\"297.24\" x2=\"409.592\" y2=\"297.072\" stroke-linecap=\"round\" style=\"stroke:red;stroke-width:1\" /><line x1=\"409.592\" y1=\"297.072\" x2=\"409.541\" y2=\"296.905\" stroke-linecap=\"round\" style=\"stroke:red;stroke-width:1\" /><line x1=\"409.541\" y1=\"296.905\" x2=\"409.487\" y2=\"296.739\" stroke-linecap=\"round\" style=\"stroke:red;stroke-width:1\" /><line x1=\"409.487\" y1=\"296.739\" x2=\"409.43\" y2=\"296.574\" stroke-linecap=\"round\" style=\"stroke:red;stroke-width:1\" /><line x1=\"409.43\" y1=\"296.574\" x2=\"409.37\" y2=\"296.41\" stroke-linecap=\"round\" style=\"stroke:red;stroke-width:1\" /><line x1=\"409.37\" y1=\"296.41\" x2=\"409.307\" y2=\"296.247\" stroke-linecap=\"round\" style=\"stroke:red;stroke-width:1\" /><line x1=\"409.307\" y1=\"296.247\" x2=\"409.242\" y2=\"296.085\" stroke-linecap=\"round\" style=\"stroke:red;stroke-width:1\" /><line x1=\"409.242\" y1=\"296.085\" x2=\"409.174\" y2=\"295.924\" stroke-linecap=\"round\" style=\"stroke:red;stroke-width:1\" /><line x1=\"409.174\" y1=\"295.924\" x2=\"409.103\" y2=\"295.765\" stroke-linecap=\"round\" style=\"stroke:red;stroke-width:1\" /><line x1=\"409.103\" y1=\"295.765\" x2=\"409.029\" y2=\"295.607\" stroke-linecap=\"round\" style=\"stroke:red;stroke-width:1\" /><line x1=\"409.029\" y1=\"295.607\" x2=\"408.952\" y2=\"295.45\" stroke-linecap=\"round\" style=\"stroke:red;stroke-width:1\" /><line x1=\"408.952\" y1=\"295.45\" x2=\"408.873\" y2=\"295.294\" stroke-linecap=\"round\" style=\"stroke:red;stroke-width:1\" /><line x1=\"408.873\" y1=\"295.294\" x2=\"408.791\" y2=\"295.14\" stroke-linecap=\"round\" style=\"stroke:red;stroke-width:1\" /><line x1=\"408.791\" y1=\"295.14\" x2=\"408.706\" y2=\"294.987\" stroke-linecap=\"round\" style=\"stroke:red;stroke-width:1\" /><line x1=\"408.706\" y1=\"294.987\" x2=\"408.619\" y2=\"294.836\" stroke-linecap=\"round\" style=\"stroke:red;stroke-width:1\" /><line x1=\"408.619\" y1=\"294.836\" x2=\"408.529\" y2=\"294.686\" stroke-linecap=\"round\" style=\"stroke:red;stroke-width:1\" /><line x1=\"408.529\" y1=\"294.686\" x2=\"408.437\" y2=\"294.538\" stroke-linecap=\"round\" style=\"stroke:red;stroke-width:1\" /><line x1=\"408.437\" y1=\"294.538\" x2=\"408.342\" y2=\"294.392\" stroke-linecap=\"round\" style=\"stroke:red;stroke-width:1\" /><line x1=\"408.342\" y1=\"294.392\" x2=\"408.244\" y2=\"294.247\" stroke-linecap=\"round\" style=\"stroke:red;stroke-width:1\" /><line x1=\"408.244\" y1=\"294.247\" x2=\"408.144\" y2=\"294.104\" stroke-linecap=\"round\" style=\"stroke:red;stroke-width:1\" /><line x1=\"408.144\" y1=\"294.104\" x2=\"408.041\" y2=\"293.963\" stroke-linecap=\"round\" style=\"stroke:red;stroke-width:1\" /><line x1=\"408.041\" y1=\"293.963\" x2=\"407.936\" y2=\"293.824\" stroke-linecap=\"round\" style=\"stroke:red;stroke-width:1\" /><line x1=\"407.936\" y1=\"293.824\" x2=\"407.829\" y2=\"293.686\" stroke-linecap=\"round\" style=\"stroke:red;stroke-width:1\" /><line x1=\"407.829\" y1=\"293.686\" x2=\"407.719\" y2=\"293.55\" stroke-linecap=\"round\" style=\"stroke:red;stroke-width:1\" /><line x1=\"407.719\" y1=\"293.55\" x2=\"407.607\" y2=\"293.416\" stroke-linecap=\"round\" style=\"stroke:red;stroke-width:1\" /><line x1=\"407.607\" y1=\"293.416\" x2=\"407.492\" y2=\"293.284\" stroke-linecap=\"round\" style=\"stroke:red;stroke-width:1\" /><line x1=\"407.492\" y1=\"293.284\" x2=\"407.375\" y2=\"293.154\" stroke-linecap=\"round\" style=\"stroke:red;stroke-width:1\" /><line x1=\"407.375\" y1=\"293.154\" x2=\"407.256\" y2=\"293.026\" stroke-linecap=\"round\" style=\"stroke:red;stroke-width:1\" /><line x1=\"407.256\" y1=\"293.026\" x2=\"407.135\" y2=\"292.9\" stroke-linecap=\"round\" style=\"stroke:red;stroke-width:1\" /><line x1=\"407.135\" y1=\"292.9\" x2=\"407.012\" y2=\"292.777\" stroke-linecap=\"round\" style=\"stroke:red;stroke-width:1\" /><line x1=\"407.012\" y1=\"292.777\" x2=\"406.886\" y2=\"292.656\" stroke-linecap=\"round\" style=\"stroke:red;stroke-width:1\" /><line x1=\"406.886\" y1=\"292.656\" x2=\"406.758\" y2=\"292.537\" stroke-linecap=\"round\" style=\"stroke:red;stroke-width:1\" /><line x1=\"406.758\" y1=\"292.537\" x2=\"406.628\" y2=\"292.42\" stroke-linecap=\"round\" style=\"stroke:red;stroke-width:1\" /><line x1=\"406.628\" y1=\"292.42\" x2=\"406.496\" y2=\"292.305\" stroke-linecap=\"round\" style=\"stroke:red;stroke-width:1\" /><line x1=\"406.496\" y1=\"292.305\" x2=\"406.362\" y2=\"292.193\" stroke-linecap=\"round\" style=\"stroke:red;stroke-width:1\" /><line x1=\"406.362\" y1=\"292.193\" x2=\"406.226\" y2=\"292.083\" stroke-linecap=\"round\" style=\"stroke:red;stroke-width:1\" /><line x1=\"406.226\" y1=\"292.083\" x2=\"406.088\" y2=\"291.976\" stroke-linecap=\"round\" style=\"stroke:red;stroke-width:1\" /><line x1=\"406.088\" y1=\"291.976\" x2=\"405.949\" y2=\"291.871\" stroke-linecap=\"round\" style=\"stroke:red;stroke-width:1\" /><line x1=\"405.949\" y1=\"291.871\" x2=\"405.808\" y2=\"291.768\" stroke-linecap=\"round\" style=\"stroke:red;stroke-width:1\" /><line x1=\"405.808\" y1=\"291.768\" x2=\"405.665\" y2=\"291.668\" stroke-linecap=\"round\" style=\"stroke:red;stroke-width:1\" /><line x1=\"405.665\" y1=\"291.668\" x2=\"405.52\" y2=\"291.57\" stroke-linecap=\"round\" style=\"stroke:red;stroke-width:1\" /><line x1=\"405.52\" y1=\"291.57\" x2=\"405.374\" y2=\"291.475\" stroke-linecap=\"round\" style=\"stroke:red;stroke-width:1\" /><line x1=\"405.374\" y1=\"291.475\" x2=\"405.226\" y2=\"291.383\" stroke-linecap=\"round\" style=\"stroke:red;stroke-width:1\" /><line x1=\"405.226\" y1=\"291.383\" x2=\"405.076\" y2=\"291.293\" stroke-linecap=\"round\" style=\"stroke:red;stroke-width:1\" /><line x1=\"405.076\" y1=\"291.293\" x2=\"404.925\" y2=\"291.206\" stroke-linecap=\"round\" style=\"stroke:red;stroke-width:1\" /><line x1=\"404.925\" y1=\"291.206\" x2=\"404.772\" y2=\"291.121\" stroke-linecap=\"round\" style=\"stroke:red;stroke-width:1\" /><line x1=\"404.772\" y1=\"291.121\" x2=\"404.618\" y2=\"291.039\" stroke-linecap=\"round\" style=\"stroke:red;stroke-width:1\" /><line x1=\"404.618\" y1=\"291.039\" x2=\"404.462\" y2=\"290.96\" stroke-linecap=\"round\" style=\"stroke:red;stroke-width:1\" /><line x1=\"404.462\" y1=\"290.96\" x2=\"404.305\" y2=\"290.883\" stroke-linecap=\"round\" style=\"stroke:red;stroke-width:1\" /><line x1=\"404.305\" y1=\"290.883\" x2=\"404.147\" y2=\"290.809\" stroke-linecap=\"round\" style=\"stroke:red;stroke-width:1\" /><line x1=\"404.147\" y1=\"290.809\" x2=\"403.988\" y2=\"290.738\" stroke-linecap=\"round\" style=\"stroke:red;stroke-width:1\" /><line x1=\"403.988\" y1=\"290.738\" x2=\"403.827\" y2=\"290.67\" stroke-linecap=\"round\" style=\"stroke:red;stroke-width:1\" /><line x1=\"403.827\" y1=\"290.67\" x2=\"403.665\" y2=\"290.605\" stroke-linecap=\"round\" style=\"stroke:red;stroke-width:1\" /><line x1=\"403.665\" y1=\"290.605\" x2=\"403.502\" y2=\"290.542\" stroke-linecap=\"round\" style=\"stroke:red;stroke-width:1\" /><line x1=\"403.502\" y1=\"290.542\" x2=\"403.338\" y2=\"290.482\" stroke-linecap=\"round\" style=\"stroke:red;stroke-width:1\" /><line x1=\"403.338\" y1=\"290.482\" x2=\"403.173\" y2=\"290.425\" stroke-linecap=\"round\" style=\"stroke:red;stroke-width:1\" /><line x1=\"403.173\" y1=\"290.425\" x2=\"403.007\" y2=\"290.371\" stroke-linecap=\"round\" style=\"stroke:red;stroke-width:1\" /><line x1=\"403.007\" y1=\"290.371\" x2=\"402.84\" y2=\"290.32\" stroke-linecap=\"round\" style=\"stroke:red;stroke-width:1\" /><line x1=\"402.84\" y1=\"290.32\" x2=\"402.672\" y2=\"290.272\" stroke-linecap=\"round\" style=\"stroke:red;stroke-width:1\" /><line x1=\"402.672\" y1=\"290.272\" x2=\"402.503\" y2=\"290.227\" stroke-linecap=\"round\" style=\"stroke:red;stroke-width:1\" /><line x1=\"402.503\" y1=\"290.227\" x2=\"402.334\" y2=\"290.185\" stroke-linecap=\"round\" style=\"stroke:red;stroke-width:1\" /><line x1=\"402.334\" y1=\"290.185\" x2=\"402.164\" y2=\"290.146\" stroke-linecap=\"round\" style=\"stroke:red;stroke-width:1\" /><line x1=\"402.164\" y1=\"290.146\" x2=\"401.993\" y2=\"290.11\" stroke-linecap=\"round\" style=\"stroke:red;stroke-width:1\" /><line x1=\"401.993\" y1=\"290.11\" x2=\"401.822\" y2=\"290.077\" stroke-linecap=\"round\" style=\"stroke:red;stroke-width:1\" /><line x1=\"401.822\" y1=\"290.077\" x2=\"401.65\" y2=\"290.047\" stroke-linecap=\"round\" style=\"stroke:red;stroke-width:1\" /><line x1=\"401.65\" y1=\"290.047\" x2=\"401.478\" y2=\"290.02\" stroke-linecap=\"round\" style=\"stroke:red;stroke-width:1\" /><line x1=\"401.478\" y1=\"290.02\" x2=\"401.305\" y2=\"289.996\" stroke-linecap=\"round\" style=\"stroke:red;stroke-width:1\" /><line x1=\"401.305\" y1=\"289.996\" x2=\"401.132\" y2=\"289.975\" stroke-linecap=\"round\" style=\"stroke:red;stroke-width:1\" /><line x1=\"401.132\" y1=\"289.975\" x2=\"400.958\" y2=\"289.957\" stroke-linecap=\"round\" style=\"stroke:red;stroke-width:1\" /><line x1=\"400.958\" y1=\"289.957\" x2=\"400.784\" y2=\"289.942\" stroke-linecap=\"round\" style=\"stroke:red;stroke-width:1\" /><line x1=\"400.784\" y1=\"289.942\" x2=\"400.61\" y2=\"289.93\" stroke-linecap=\"round\" style=\"stroke:red;stroke-width:1\" /><line x1=\"400.61\" y1=\"289.93\" x2=\"400.436\" y2=\"289.921\" stroke-linecap=\"round\" style=\"stroke:red;stroke-width:1\" /><line x1=\"400.436\" y1=\"289.921\" x2=\"400.262\" y2=\"289.915\" stroke-linecap=\"round\" style=\"stroke:red;stroke-width:1\" /><line x1=\"400.262\" y1=\"289.915\" x2=\"400.087\" y2=\"289.912\" stroke-linecap=\"round\" style=\"stroke:red;stroke-width:1\" /><line x1=\"400.087\" y1=\"289.912\" x2=\"399.912\" y2=\"289.912\" stroke-linecap=\"round\" style=\"stroke:red;stroke-width:1\" /><line x1=\"399.912\" y1=\"289.912\" x2=\"399.737\" y2=\"289.915\" stroke-linecap=\"round\" style=\"stroke:red;stroke-width:1\" /><line x1=\"399.737\" y1=\"289.915\" x2=\"399.563\" y2=\"289.921\" stroke-linecap=\"round\" style=\"stroke:red;stroke-width:1\" /><line x1=\"399.563\" y1=\"289.921\" x2=\"399.389\" y2=\"289.93\" stroke-linecap=\"round\" style=\"stroke:red;stroke-width:1\" /><line x1=\"399.389\" y1=\"289.93\" x2=\"399.215\" y2=\"289.942\" stroke-linecap=\"round\" style=\"stroke:red;stroke-width:1\" /><line x1=\"399.215\" y1=\"289.942\" x2=\"399.041\" y2=\"289.957\" stroke-linecap=\"round\" style=\"stroke:red;stroke-width:1\" /><line x1=\"399.041\" y1=\"289.957\" x2=\"398.867\" y2=\"289.975\" stroke-linecap=\"round\" style=\"stroke:red;stroke-width:1\" /><line x1=\"398.867\" y1=\"289.975\" x2=\"398.694\" y2=\"289.996\" stroke-linecap=\"round\" style=\"stroke:red;stroke-width:1\" /><line x1=\"398.694\" y1=\"289.996\" x2=\"398.521\" y2=\"290.02\" stroke-linecap=\"round\" style=\"stroke:red;stroke-width:1\" /><line x1=\"398.521\" y1=\"290.02\" x2=\"398.349\" y2=\"290.047\" stroke-linecap=\"round\" style=\"stroke:red;stroke-width:1\" /><line x1=\"398.349\" y1=\"290.047\" x2=\"398.177\" y2=\"290.077\" stroke-linecap=\"round\" style=\"stroke:red;stroke-width:1\" /><line x1=\"398.177\" y1=\"290.077\" x2=\"398.006\" y2=\"290.11\" stroke-linecap=\"round\" style=\"stroke:red;stroke-width:1\" /><line x1=\"398.006\" y1=\"290.11\" x2=\"397.835\" y2=\"290.146\" stroke-linecap=\"round\" style=\"stroke:red;stroke-width:1\" /><line x1=\"397.835\" y1=\"290.146\" x2=\"397.665\" y2=\"290.185\" stroke-linecap=\"round\" style=\"stroke:red;stroke-width:1\" /><line x1=\"397.665\" y1=\"290.185\" x2=\"397.496\" y2=\"290.227\" stroke-linecap=\"round\" style=\"stroke:red;stroke-width:1\" /><line x1=\"397.496\" y1=\"290.227\" x2=\"397.327\" y2=\"290.272\" stroke-linecap=\"round\" style=\"stroke:red;stroke-width:1\" /><line x1=\"397.327\" y1=\"290.272\" x2=\"397.159\" y2=\"290.32\" stroke-linecap=\"round\" style=\"stroke:red;stroke-width:1\" /><line x1=\"397.159\" y1=\"290.32\" x2=\"396.992\" y2=\"290.371\" stroke-linecap=\"round\" style=\"stroke:red;stroke-width:1\" /><line x1=\"396.992\" y1=\"290.371\" x2=\"396.826\" y2=\"290.425\" stroke-linecap=\"round\" style=\"stroke:red;stroke-width:1\" /><line x1=\"396.826\" y1=\"290.425\" x2=\"396.661\" y2=\"290.482\" stroke-linecap=\"round\" style=\"stroke:red;stroke-width:1\" /><line x1=\"396.661\" y1=\"290.482\" x2=\"396.497\" y2=\"290.542\" stroke-linecap=\"round\" style=\"stroke:red;stroke-width:1\" /><line x1=\"396.497\" y1=\"290.542\" x2=\"396.334\" y2=\"290.605\" stroke-linecap=\"round\" style=\"stroke:red;stroke-width:1\" /><line x1=\"396.334\" y1=\"290.605\" x2=\"396.172\" y2=\"290.67\" stroke-linecap=\"round\" style=\"stroke:red;stroke-width:1\" /><line x1=\"396.172\" y1=\"290.67\" x2=\"396.011\" y2=\"290.738\" stroke-linecap=\"round\" style=\"stroke:red;stroke-width:1\" /><line x1=\"396.011\" y1=\"290.738\" x2=\"395.852\" y2=\"290.809\" stroke-linecap=\"round\" style=\"stroke:red;stroke-width:1\" /><line x1=\"395.852\" y1=\"290.809\" x2=\"395.694\" y2=\"290.883\" stroke-linecap=\"round\" style=\"stroke:red;stroke-width:1\" /><line x1=\"395.694\" y1=\"290.883\" x2=\"395.537\" y2=\"290.96\" stroke-linecap=\"round\" style=\"stroke:red;stroke-width:1\" /><line x1=\"395.537\" y1=\"290.96\" x2=\"395.381\" y2=\"291.039\" stroke-linecap=\"round\" style=\"stroke:red;stroke-width:1\" /><line x1=\"395.381\" y1=\"291.039\" x2=\"395.227\" y2=\"291.121\" stroke-linecap=\"round\" style=\"stroke:red;stroke-width:1\" /><line x1=\"395.227\" y1=\"291.121\" x2=\"395.074\" y2=\"291.206\" stroke-linecap=\"round\" style=\"stroke:red;stroke-width:1\" /><line x1=\"395.074\" y1=\"291.206\" x2=\"394.923\" y2=\"291.293\" stroke-linecap=\"round\" style=\"stroke:red;stroke-width:1\" /><line x1=\"394.923\" y1=\"291.293\" x2=\"394.773\" y2=\"291.383\" stroke-linecap=\"round\" style=\"stroke:red;stroke-width:1\" /><line x1=\"394.773\" y1=\"291.383\" x2=\"394.625\" y2=\"291.475\" stroke-linecap=\"round\" style=\"stroke:red;stroke-width:1\" /><line x1=\"394.625\" y1=\"291.475\" x2=\"394.479\" y2=\"291.57\" stroke-linecap=\"round\" style=\"stroke:red;stroke-width:1\" /><line x1=\"394.479\" y1=\"291.57\" x2=\"394.334\" y2=\"291.668\" stroke-linecap=\"round\" style=\"stroke:red;stroke-width:1\" /><line x1=\"394.334\" y1=\"291.668\" x2=\"394.191\" y2=\"291.768\" stroke-linecap=\"round\" style=\"stroke:red;stroke-width:1\" /><line x1=\"394.191\" y1=\"291.768\" x2=\"394.05\" y2=\"291.871\" stroke-linecap=\"round\" style=\"stroke:red;stroke-width:1\" /><line x1=\"394.05\" y1=\"291.871\" x2=\"393.911\" y2=\"291.976\" stroke-linecap=\"round\" style=\"stroke:red;stroke-width:1\" /><line x1=\"393.911\" y1=\"291.976\" x2=\"393.773\" y2=\"292.083\" stroke-linecap=\"round\" style=\"stroke:red;stroke-width:1\" /><line x1=\"393.773\" y1=\"292.083\" x2=\"393.637\" y2=\"292.193\" stroke-linecap=\"round\" style=\"stroke:red;stroke-width:1\" /><line x1=\"393.637\" y1=\"292.193\" x2=\"393.503\" y2=\"292.305\" stroke-linecap=\"round\" style=\"stroke:red;stroke-width:1\" /><line x1=\"393.503\" y1=\"292.305\" x2=\"393.371\" y2=\"292.42\" stroke-linecap=\"round\" style=\"stroke:red;stroke-width:1\" /><line x1=\"393.371\" y1=\"292.42\" x2=\"393.241\" y2=\"292.537\" stroke-linecap=\"round\" style=\"stroke:red;stroke-width:1\" /><line x1=\"393.241\" y1=\"292.537\" x2=\"393.113\" y2=\"292.656\" stroke-linecap=\"round\" style=\"stroke:red;stroke-width:1\" /><line x1=\"393.113\" y1=\"292.656\" x2=\"392.987\" y2=\"292.777\" stroke-linecap=\"round\" style=\"stroke:red;stroke-width:1\" /><line x1=\"392.987\" y1=\"292.777\" x2=\"392.864\" y2=\"292.9\" stroke-linecap=\"round\" style=\"stroke:red;stroke-width:1\" /><line x1=\"392.864\" y1=\"292.9\" x2=\"392.743\" y2=\"293.026\" stroke-linecap=\"round\" style=\"stroke:red;stroke-width:1\" /><line x1=\"392.743\" y1=\"293.026\" x2=\"392.624\" y2=\"293.154\" stroke-linecap=\"round\" style=\"stroke:red;stroke-width:1\" /><line x1=\"392.624\" y1=\"293.154\" x2=\"392.507\" y2=\"293.284\" stroke-linecap=\"round\" style=\"stroke:red;stroke-width:1\" /><line x1=\"392.507\" y1=\"293.284\" x2=\"392.392\" y2=\"293.416\" stroke-linecap=\"round\" style=\"stroke:red;stroke-width:1\" /><line x1=\"392.392\" y1=\"293.416\" x2=\"392.28\" y2=\"293.55\" stroke-linecap=\"round\" style=\"stroke:red;stroke-width:1\" /><line x1=\"392.28\" y1=\"293.55\" x2=\"392.17\" y2=\"293.686\" stroke-linecap=\"round\" style=\"stroke:red;stroke-width:1\" /><line x1=\"392.17\" y1=\"293.686\" x2=\"392.063\" y2=\"293.824\" stroke-linecap=\"round\" style=\"stroke:red;stroke-width:1\" /><line x1=\"392.063\" y1=\"293.824\" x2=\"391.958\" y2=\"293.963\" stroke-linecap=\"round\" style=\"stroke:red;stroke-width:1\" /><line x1=\"391.958\" y1=\"293.963\" x2=\"391.855\" y2=\"294.104\" stroke-linecap=\"round\" style=\"stroke:red;stroke-width:1\" /><line x1=\"391.855\" y1=\"294.104\" x2=\"391.755\" y2=\"294.247\" stroke-linecap=\"round\" style=\"stroke:red;stroke-width:1\" /><line x1=\"391.755\" y1=\"294.247\" x2=\"391.657\" y2=\"294.392\" stroke-linecap=\"round\" style=\"stroke:red;stroke-width:1\" /><line x1=\"391.657\" y1=\"294.392\" x2=\"391.562\" y2=\"294.538\" stroke-linecap=\"round\" style=\"stroke:red;stroke-width:1\" /><line x1=\"391.562\" y1=\"294.538\" x2=\"391.47\" y2=\"294.686\" stroke-linecap=\"round\" style=\"stroke:red;stroke-width:1\" /><line x1=\"391.47\" y1=\"294.686\" x2=\"391.38\" y2=\"294.836\" stroke-linecap=\"round\" style=\"stroke:red;stroke-width:1\" /><line x1=\"391.38\" y1=\"294.836\" x2=\"391.293\" y2=\"294.987\" stroke-linecap=\"round\" style=\"stroke:red;stroke-width:1\" /><line x1=\"391.293\" y1=\"294.987\" x2=\"391.208\" y2=\"295.14\" stroke-linecap=\"round\" style=\"stroke:red;stroke-width:1\" /><line x1=\"391.208\" y1=\"295.14\" x2=\"391.126\" y2=\"295.294\" stroke-linecap=\"round\" style=\"stroke:red;stroke-width:1\" /><line x1=\"391.126\" y1=\"295.294\" x2=\"391.047\" y2=\"295.45\" stroke-linecap=\"round\" style=\"stroke:red;stroke-width:1\" /><line x1=\"391.047\" y1=\"295.45\" x2=\"390.97\" y2=\"295.607\" stroke-linecap=\"round\" style=\"stroke:red;stroke-width:1\" /><line x1=\"390.97\" y1=\"295.607\" x2=\"390.896\" y2=\"295.765\" stroke-linecap=\"round\" style=\"stroke:red;stroke-width:1\" /><line x1=\"390.896\" y1=\"295.765\" x2=\"390.825\" y2=\"295.924\" stroke-linecap=\"round\" style=\"stroke:red;stroke-width:1\" /><line x1=\"390.825\" y1=\"295.924\" x2=\"390.757\" y2=\"296.085\" stroke-linecap=\"round\" style=\"stroke:red;stroke-width:1\" /><line x1=\"390.757\" y1=\"296.085\" x2=\"390.692\" y2=\"296.247\" stroke-linecap=\"round\" style=\"stroke:red;stroke-width:1\" /><line x1=\"390.692\" y1=\"296.247\" x2=\"390.629\" y2=\"296.41\" stroke-linecap=\"round\" style=\"stroke:red;stroke-width:1\" /><line x1=\"390.629\" y1=\"296.41\" x2=\"390.569\" y2=\"296.574\" stroke-linecap=\"round\" style=\"stroke:red;stroke-width:1\" /><line x1=\"390.569\" y1=\"296.574\" x2=\"390.512\" y2=\"296.739\" stroke-linecap=\"round\" style=\"stroke:red;stroke-width:1\" /><line x1=\"390.512\" y1=\"296.739\" x2=\"390.458\" y2=\"296.905\" stroke-linecap=\"round\" style=\"stroke:red;stroke-width:1\" /><line x1=\"390.458\" y1=\"296.905\" x2=\"390.407\" y2=\"297.072\" stroke-linecap=\"round\" style=\"stroke:red;stroke-width:1\" /><line x1=\"390.407\" y1=\"297.072\" x2=\"390.359\" y2=\"297.24\" stroke-linecap=\"round\" style=\"stroke:red;stroke-width:1\" /><line x1=\"390.359\" y1=\"297.24\" x2=\"390.314\" y2=\"297.409\" stroke-linecap=\"round\" style=\"stroke:red;stroke-width:1\" /><line x1=\"390.314\" y1=\"297.409\" x2=\"390.272\" y2=\"297.578\" stroke-linecap=\"round\" style=\"stroke:red;stroke-width:1\" /><line x1=\"390.272\" y1=\"297.578\" x2=\"390.233\" y2=\"297.748\" stroke-linecap=\"round\" style=\"stroke:red;stroke-width:1\" /><line x1=\"390.233\" y1=\"297.748\" x2=\"390.197\" y2=\"297.919\" stroke-linecap=\"round\" style=\"stroke:red;stroke-width:1\" /><line x1=\"390.197\" y1=\"297.919\" x2=\"390.164\" y2=\"298.09\" stroke-linecap=\"round\" style=\"stroke:red;stroke-width:1\" /><line x1=\"390.164\" y1=\"298.09\" x2=\"390.134\" y2=\"298.262\" stroke-linecap=\"round\" style=\"stroke:red;stroke-width:1\" /><line x1=\"390.134\" y1=\"298.262\" x2=\"390.107\" y2=\"298.434\" stroke-linecap=\"round\" style=\"stroke:red;stroke-width:1\" /><line x1=\"390.107\" y1=\"298.434\" x2=\"390.083\" y2=\"298.607\" stroke-linecap=\"round\" style=\"stroke:red;stroke-width:1\" /><line x1=\"390.083\" y1=\"298.607\" x2=\"390.062\" y2=\"298.78\" stroke-linecap=\"round\" style=\"stroke:red;stroke-width:1\" /><line x1=\"390.062\" y1=\"298.78\" x2=\"390.044\" y2=\"298.954\" stroke-linecap=\"round\" style=\"stroke:red;stroke-width:1\" /><line x1=\"390.044\" y1=\"298.954\" x2=\"390.029\" y2=\"299.128\" stroke-linecap=\"round\" style=\"stroke:red;stroke-width:1\" /><line x1=\"390.029\" y1=\"299.128\" x2=\"390.017\" y2=\"299.302\" stroke-linecap=\"round\" style=\"stroke:red;stroke-width:1\" /><line x1=\"390.017\" y1=\"299.302\" x2=\"390.008\" y2=\"299.476\" stroke-linecap=\"round\" style=\"stroke:red;stroke-width:1\" /><line x1=\"390.008\" y1=\"299.476\" x2=\"390.002\" y2=\"299.65\" stroke-linecap=\"round\" style=\"stroke:red;stroke-width:1\" /><line x1=\"390.002\" y1=\"299.65\" x2=\"389.999\" y2=\"299.825\" stroke-linecap=\"round\" style=\"stroke:red;stroke-width:1\" /><line x1=\"389.999\" y1=\"299.825\" x2=\"389.999\" y2=\"300.174\" stroke-linecap=\"round\" style=\"stroke:red;stroke-width:1\" /><line x1=\"389.999\" y1=\"300.174\" x2=\"390.005\" y2=\"300.523\" stroke-linecap=\"round\" style=\"stroke:red;stroke-width:1\" /><line x1=\"390.005\" y1=\"300.523\" x2=\"390.017\" y2=\"300.872\" stroke-linecap=\"round\" style=\"stroke:red;stroke-width:1\" /><line x1=\"390.017\" y1=\"300.872\" x2=\"390.035\" y2=\"301.221\" stroke-linecap=\"round\" style=\"stroke:red;stroke-width:1\" /><line x1=\"390.035\" y1=\"301.221\" x2=\"390.059\" y2=\"301.569\" stroke-linecap=\"round\" style=\"stroke:red;stroke-width:1\" /><line x1=\"390.059\" y1=\"301.569\" x2=\"390.089\" y2=\"301.917\" stroke-linecap=\"round\" style=\"stroke:red;stroke-width:1\" /><line x1=\"390.089\" y1=\"301.917\" x2=\"390.125\" y2=\"302.264\" stroke-linecap=\"round\" style=\"stroke:red;stroke-width:1\" /><line x1=\"390.125\" y1=\"302.264\" x2=\"390.168\" y2=\"302.61\" stroke-linecap=\"round\" style=\"stroke:red;stroke-width:1\" /><line x1=\"390.168\" y1=\"302.61\" x2=\"390.217\" y2=\"302.956\" stroke-linecap=\"round\" style=\"stroke:red;stroke-width:1\" /><line x1=\"390.217\" y1=\"302.956\" x2=\"390.272\" y2=\"303.301\" stroke-linecap=\"round\" style=\"stroke:red;stroke-width:1\" /><line x1=\"390.272\" y1=\"303.301\" x2=\"390.333\" y2=\"303.645\" stroke-linecap=\"round\" style=\"stroke:red;stroke-width:1\" /><line x1=\"390.333\" y1=\"303.645\" x2=\"390.4\" y2=\"303.988\" stroke-linecap=\"round\" style=\"stroke:red;stroke-width:1\" /><line x1=\"390.4\" y1=\"303.988\" x2=\"390.473\" y2=\"304.329\" stroke-linecap=\"round\" style=\"stroke:red;stroke-width:1\" /><line x1=\"390.473\" y1=\"304.329\" x2=\"390.552\" y2=\"304.669\" stroke-linecap=\"round\" style=\"stroke:red;stroke-width:1\" /><line x1=\"390.552\" y1=\"304.669\" x2=\"390.636\" y2=\"305.008\" stroke-linecap=\"round\" style=\"stroke:red;stroke-width:1\" /><line x1=\"390.636\" y1=\"305.008\" x2=\"390.726\" y2=\"305.345\" stroke-linecap=\"round\" style=\"stroke:red;stroke-width:1\" /><line x1=\"390.726\" y1=\"305.345\" x2=\"390.822\" y2=\"305.681\" stroke-linecap=\"round\" style=\"stroke:red;stroke-width:1\" /><line x1=\"390.822\" y1=\"305.681\" x2=\"390.924\" y2=\"306.015\" stroke-linecap=\"round\" style=\"stroke:red;stroke-width:1\" /><line x1=\"390.924\" y1=\"306.015\" x2=\"391.032\" y2=\"306.347\" stroke-linecap=\"round\" style=\"stroke:red;stroke-width:1\" /><line x1=\"391.032\" y1=\"306.347\" x2=\"391.146\" y2=\"306.677\" stroke-linecap=\"round\" style=\"stroke:red;stroke-width:1\" /><line x1=\"391.146\" y1=\"306.677\" x2=\"391.265\" y2=\"307.005\" stroke-linecap=\"round\" style=\"stroke:red;stroke-width:1\" /><line x1=\"391.265\" y1=\"307.005\" x2=\"391.39\" y2=\"307.331\" stroke-linecap=\"round\" style=\"stroke:red;stroke-width:1\" /><line x1=\"391.39\" y1=\"307.331\" x2=\"391.521\" y2=\"307.655\" stroke-linecap=\"round\" style=\"stroke:red;stroke-width:1\" /><line x1=\"391.521\" y1=\"307.655\" x2=\"391.657\" y2=\"307.976\" stroke-linecap=\"round\" style=\"stroke:red;stroke-width:1\" /><line x1=\"391.657\" y1=\"307.976\" x2=\"391.799\" y2=\"308.295\" stroke-linecap=\"round\" style=\"stroke:red;stroke-width:1\" /><line x1=\"391.799\" y1=\"308.295\" x2=\"391.947\" y2=\"308.611\" stroke-linecap=\"round\" style=\"stroke:red;stroke-width:1\" /><line x1=\"391.947\" y1=\"308.611\" x2=\"392.1\" y2=\"308.925\" stroke-linecap=\"round\" style=\"stroke:red;stroke-width:1\" /><line x1=\"392.1\" y1=\"308.925\" x2=\"392.258\" y2=\"309.236\" stroke-linecap=\"round\" style=\"stroke:red;stroke-width:1\" /><line x1=\"392.258\" y1=\"309.236\" x2=\"392.422\" y2=\"309.544\" stroke-linecap=\"round\" style=\"stroke:red;stroke-width:1\" /><line x1=\"392.422\" y1=\"309.544\" x2=\"392.591\" y2=\"309.849\" stroke-linecap=\"round\" style=\"stroke:red;stroke-width:1\" /><line x1=\"392.591\" y1=\"309.849\" x2=\"392.766\" y2=\"310.151\" stroke-linecap=\"round\" style=\"stroke:red;stroke-width:1\" /><line x1=\"392.766\" y1=\"310.151\" x2=\"392.946\" y2=\"310.45\" stroke-linecap=\"round\" style=\"stroke:red;stroke-width:1\" /><line x1=\"392.946\" y1=\"310.45\" x2=\"393.131\" y2=\"310.746\" stroke-linecap=\"round\" style=\"stroke:red;stroke-width:1\" /><line x1=\"393.131\" y1=\"310.746\" x2=\"393.321\" y2=\"311.039\" stroke-linecap=\"round\" style=\"stroke:red;stroke-width:1\" /><line x1=\"393.321\" y1=\"311.039\" x2=\"393.516\" y2=\"311.328\" stroke-linecap=\"round\" style=\"stroke:red;stroke-width:1\" /><line x1=\"393.516\" y1=\"311.328\" x2=\"393.716\" y2=\"311.614\" stroke-linecap=\"round\" style=\"stroke:red;stroke-width:1\" /><line x1=\"393.716\" y1=\"311.614\" x2=\"393.921\" y2=\"311.896\" stroke-linecap=\"round\" style=\"stroke:red;stroke-width:1\" /><line x1=\"393.921\" y1=\"311.896\" x2=\"394.131\" y2=\"312.175\" stroke-linecap=\"round\" style=\"stroke:red;stroke-width:1\" /><line x1=\"394.131\" y1=\"312.175\" x2=\"394.346\" y2=\"312.45\" stroke-linecap=\"round\" style=\"stroke:red;stroke-width:1\" /><line x1=\"394.346\" y1=\"312.45\" x2=\"394.566\" y2=\"312.721\" stroke-linecap=\"round\" style=\"stroke:red;stroke-width:1\" /><line x1=\"394.566\" y1=\"312.721\" x2=\"394.79\" y2=\"312.988\" stroke-linecap=\"round\" style=\"stroke:red;stroke-width:1\" /><line x1=\"394.79\" y1=\"312.988\" x2=\"395.019\" y2=\"313.251\" stroke-linecap=\"round\" style=\"stroke:red;stroke-width:1\" /><line x1=\"395.019\" y1=\"313.251\" x2=\"395.253\" y2=\"313.51\" stroke-linecap=\"round\" style=\"stroke:red;stroke-width:1\" /><line x1=\"395.253\" y1=\"313.51\" x2=\"395.491\" y2=\"313.765\" stroke-linecap=\"round\" style=\"stroke:red;stroke-width:1\" /><line x1=\"395.491\" y1=\"313.765\" x2=\"395.733\" y2=\"314.016\" stroke-linecap=\"round\" style=\"stroke:red;stroke-width:1\" /><line x1=\"395.733\" y1=\"314.016\" x2=\"395.98\" y2=\"314.263\" stroke-linecap=\"round\" style=\"stroke:red;stroke-width:1\" /><line x1=\"395.98\" y1=\"314.263\" x2=\"396.231\" y2=\"314.505\" stroke-linecap=\"round\" style=\"stroke:red;stroke-width:1\" /><line x1=\"396.231\" y1=\"314.505\" x2=\"396.486\" y2=\"314.743\" stroke-linecap=\"round\" style=\"stroke:red;stroke-width:1\" /><line x1=\"396.486\" y1=\"314.743\" x2=\"396.745\" y2=\"314.977\" stroke-linecap=\"round\" style=\"stroke:red;stroke-width:1\" /><line x1=\"396.745\" y1=\"314.977\" x2=\"397.008\" y2=\"315.206\" stroke-linecap=\"round\" style=\"stroke:red;stroke-width:1\" /><line x1=\"397.008\" y1=\"315.206\" x2=\"397.275\" y2=\"315.43\" stroke-linecap=\"round\" style=\"stroke:red;stroke-width:1\" /><line x1=\"397.275\" y1=\"315.43\" x2=\"397.546\" y2=\"315.65\" stroke-linecap=\"round\" style=\"stroke:red;stroke-width:1\" /><line x1=\"397.546\" y1=\"315.65\" x2=\"397.821\" y2=\"315.865\" stroke-linecap=\"round\" style=\"stroke:red;stroke-width:1\" /><line x1=\"397.821\" y1=\"315.865\" x2=\"398.1\" y2=\"316.075\" stroke-linecap=\"round\" style=\"stroke:red;stroke-width:1\" /><line x1=\"398.1\" y1=\"316.075\" x2=\"398.382\" y2=\"316.28\" stroke-linecap=\"round\" style=\"stroke:red;stroke-width:1\" /><line x1=\"398.382\" y1=\"316.28\" x2=\"398.668\" y2=\"316.48\" stroke-linecap=\"round\" style=\"stroke:red;stroke-width:1\" /><line x1=\"398.668\" y1=\"316.48\" x2=\"398.957\" y2=\"316.675\" stroke-linecap=\"round\" style=\"stroke:red;stroke-width:1\" /><line x1=\"398.957\" y1=\"316.675\" x2=\"399.25\" y2=\"316.865\" stroke-linecap=\"round\" style=\"stroke:red;stroke-width:1\" /><line x1=\"399.25\" y1=\"316.865\" x2=\"399.546\" y2=\"317.05\" stroke-linecap=\"round\" style=\"stroke:red;stroke-width:1\" /><line x1=\"399.546\" y1=\"317.05\" x2=\"399.845\" y2=\"317.23\" stroke-linecap=\"round\" style=\"stroke:red;stroke-width:1\" /><line x1=\"399.845\" y1=\"317.23\" x2=\"400.147\" y2=\"317.405\" stroke-linecap=\"round\" style=\"stroke:red;stroke-width:1\" /><line x1=\"400.147\" y1=\"317.405\" x2=\"400.452\" y2=\"317.574\" stroke-linecap=\"round\" style=\"stroke:red;stroke-width:1\" /><line x1=\"400.452\" y1=\"317.574\" x2=\"400.76\" y2=\"317.738\" stroke-linecap=\"round\" style=\"stroke:red;stroke-width:1\" /><line x1=\"400.76\" y1=\"317.738\" x2=\"401.071\" y2=\"317.896\" stroke-linecap=\"round\" style=\"stroke:red;stroke-width:1\" /><line x1=\"401.071\" y1=\"317.896\" x2=\"401.385\" y2=\"318.049\" stroke-linecap=\"round\" style=\"stroke:red;stroke-width:1\" /><line x1=\"401.385\" y1=\"318.049\" x2=\"401.701\" y2=\"318.197\" stroke-linecap=\"round\" style=\"stroke:red;stroke-width:1\" /><line x1=\"401.701\" y1=\"318.197\" x2=\"402.02\" y2=\"318.339\" stroke-linecap=\"round\" style=\"stroke:red;stroke-width:1\" /><line x1=\"402.02\" y1=\"318.339\" x2=\"402.341\" y2=\"318.475\" stroke-linecap=\"round\" style=\"stroke:red;stroke-width:1\" /><line x1=\"402.341\" y1=\"318.475\" x2=\"402.665\" y2=\"318.606\" stroke-linecap=\"round\" style=\"stroke:red;stroke-width:1\" /><line x1=\"402.665\" y1=\"318.606\" x2=\"402.991\" y2=\"318.731\" stroke-linecap=\"round\" style=\"stroke:red;stroke-width:1\" /><line x1=\"402.991\" y1=\"318.731\" x2=\"403.319\" y2=\"318.85\" stroke-linecap=\"round\" style=\"stroke:red;stroke-width:1\" /><line x1=\"403.319\" y1=\"318.85\" x2=\"403.649\" y2=\"318.964\" stroke-linecap=\"round\" style=\"stroke:red;stroke-width:1\" /><line x1=\"403.649\" y1=\"318.964\" x2=\"403.981\" y2=\"319.072\" stroke-linecap=\"round\" style=\"stroke:red;stroke-width:1\" /><line x1=\"403.981\" y1=\"319.072\" x2=\"404.315\" y2=\"319.174\" stroke-linecap=\"round\" style=\"stroke:red;stroke-width:1\" /><line x1=\"404.315\" y1=\"319.174\" x2=\"404.651\" y2=\"319.27\" stroke-linecap=\"round\" style=\"stroke:red;stroke-width:1\" /><line x1=\"404.651\" y1=\"319.27\" x2=\"404.988\" y2=\"319.36\" stroke-linecap=\"round\" style=\"stroke:red;stroke-width:1\" /><line x1=\"404.988\" y1=\"319.36\" x2=\"405.327\" y2=\"319.444\" stroke-linecap=\"round\" style=\"stroke:red;stroke-width:1\" /><line x1=\"405.327\" y1=\"319.444\" x2=\"405.667\" y2=\"319.523\" stroke-linecap=\"round\" style=\"stroke:red;stroke-width:1\" /><line x1=\"405.667\" y1=\"319.523\" x2=\"406.008\" y2=\"319.596\" stroke-linecap=\"round\" style=\"stroke:red;stroke-width:1\" /><line x1=\"406.008\" y1=\"319.596\" x2=\"406.351\" y2=\"319.663\" stroke-linecap=\"round\" style=\"stroke:red;stroke-width:1\" /><line x1=\"406.351\" y1=\"319.663\" x2=\"406.695\" y2=\"319.724\" stroke-linecap=\"round\" style=\"stroke:red;stroke-width:1\" /><line x1=\"406.695\" y1=\"319.724\" x2=\"407.04\" y2=\"319.779\" stroke-linecap=\"round\" style=\"stroke:red;stroke-width:1\" /><line x1=\"407.04\" y1=\"319.779\" x2=\"407.386\" y2=\"319.828\" stroke-linecap=\"round\" style=\"stroke:red;stroke-width:1\" /><line x1=\"407.386\" y1=\"319.828\" x2=\"407.732\" y2=\"319.871\" stroke-linecap=\"round\" style=\"stroke:red;stroke-width:1\" /><line x1=\"407.732\" y1=\"319.871\" x2=\"408.079\" y2=\"319.907\" stroke-linecap=\"round\" style=\"stroke:red;stroke-width:1\" /><line x1=\"408.079\" y1=\"319.907\" x2=\"408.427\" y2=\"319.937\" stroke-linecap=\"round\" style=\"stroke:red;stroke-width:1\" /><line x1=\"408.427\" y1=\"319.937\" x2=\"408.775\" y2=\"319.961\" stroke-linecap=\"round\" style=\"stroke:red;stroke-width:1\" /><line x1=\"408.775\" y1=\"319.961\" x2=\"409.124\" y2=\"319.979\" stroke-linecap=\"round\" style=\"stroke:red;stroke-width:1\" /><line x1=\"409.124\" y1=\"319.979\" x2=\"409.473\" y2=\"319.991\" stroke-linecap=\"round\" style=\"stroke:red;stroke-width:1\" /><line x1=\"409.473\" y1=\"319.991\" x2=\"409.822\" y2=\"319.997\" stroke-linecap=\"round\" style=\"stroke:red;stroke-width:1\" /><line x1=\"409.822\" y1=\"319.997\" x2=\"410.346\" y2=\"319.997\" stroke-linecap=\"round\" style=\"stroke:red;stroke-width:1\" /><line x1=\"410.346\" y1=\"319.997\" x2=\"410.87\" y2=\"319.988\" stroke-linecap=\"round\" style=\"stroke:red;stroke-width:1\" /><line x1=\"410.87\" y1=\"319.988\" x2=\"411.393\" y2=\"319.97\" stroke-linecap=\"round\" style=\"stroke:red;stroke-width:1\" /><line x1=\"411.393\" y1=\"319.97\" x2=\"411.916\" y2=\"319.943\" stroke-linecap=\"round\" style=\"stroke:red;stroke-width:1\" /><line x1=\"411.916\" y1=\"319.943\" x2=\"412.438\" y2=\"319.906\" stroke-linecap=\"round\" style=\"stroke:red;stroke-width:1\" /><line x1=\"412.438\" y1=\"319.906\" x2=\"412.96\" y2=\"319.86\" stroke-linecap=\"round\" style=\"stroke:red;stroke-width:1\" /><line x1=\"412.96\" y1=\"319.86\" x2=\"413.481\" y2=\"319.805\" stroke-linecap=\"round\" style=\"stroke:red;stroke-width:1\" /><line x1=\"413.481\" y1=\"319.805\" x2=\"414.001\" y2=\"319.741\" stroke-linecap=\"round\" style=\"stroke:red;stroke-width:1\" /><line x1=\"414.001\" y1=\"319.741\" x2=\"414.52\" y2=\"319.668\" stroke-linecap=\"round\" style=\"stroke:red;stroke-width:1\" /><line x1=\"414.52\" y1=\"319.668\" x2=\"415.037\" y2=\"319.586\" stroke-linecap=\"round\" style=\"stroke:red;stroke-width:1\" /><line x1=\"415.037\" y1=\"319.586\" x2=\"415.553\" y2=\"319.495\" stroke-linecap=\"round\" style=\"stroke:red;stroke-width:1\" /><line x1=\"415.553\" y1=\"319.495\" x2=\"416.067\" y2=\"319.395\" stroke-linecap=\"round\" style=\"stroke:red;stroke-width:1\" /><line x1=\"416.067\" y1=\"319.395\" x2=\"416.579\" y2=\"319.286\" stroke-linecap=\"round\" style=\"stroke:red;stroke-width:1\" /><line x1=\"416.579\" y1=\"319.286\" x2=\"417.089\" y2=\"319.168\" stroke-linecap=\"round\" style=\"stroke:red;stroke-width:1\" /><line x1=\"417.089\" y1=\"319.168\" x2=\"417.597\" y2=\"319.041\" stroke-linecap=\"round\" style=\"stroke:red;stroke-width:1\" /><line x1=\"417.597\" y1=\"319.041\" x2=\"418.103\" y2=\"318.905\" stroke-linecap=\"round\" style=\"stroke:red;stroke-width:1\" /><line x1=\"418.103\" y1=\"318.905\" x2=\"418.606\" y2=\"318.761\" stroke-linecap=\"round\" style=\"stroke:red;stroke-width:1\" /><line x1=\"418.606\" y1=\"318.761\" x2=\"419.107\" y2=\"318.608\" stroke-linecap=\"round\" style=\"stroke:red;stroke-width:1\" /><line x1=\"419.107\" y1=\"318.608\" x2=\"419.605\" y2=\"318.446\" stroke-linecap=\"round\" style=\"stroke:red;stroke-width:1\" /><line x1=\"419.605\" y1=\"318.446\" x2=\"420.1\" y2=\"318.276\" stroke-linecap=\"round\" style=\"stroke:red;stroke-width:1\" /><line x1=\"420.1\" y1=\"318.276\" x2=\"420.592\" y2=\"318.097\" stroke-linecap=\"round\" style=\"stroke:red;stroke-width:1\" /><line x1=\"420.592\" y1=\"318.097\" x2=\"421.081\" y2=\"317.909\" stroke-linecap=\"round\" style=\"stroke:red;stroke-width:1\" /><line x1=\"421.081\" y1=\"317.909\" x2=\"421.566\" y2=\"317.713\" stroke-linecap=\"round\" style=\"stroke:red;stroke-width:1\" /><line x1=\"421.566\" y1=\"317.713\" x2=\"422.048\" y2=\"317.508\" stroke-linecap=\"round\" style=\"stroke:red;stroke-width:1\" /><line x1=\"422.048\" y1=\"317.508\" x2=\"422.526\" y2=\"317.295\" stroke-linecap=\"round\" style=\"stroke:red;stroke-width:1\" /><line x1=\"422.526\" y1=\"317.295\" x2=\"423.001\" y2=\"317.074\" stroke-linecap=\"round\" style=\"stroke:red;stroke-width:1\" /><line x1=\"423.001\" y1=\"317.074\" x2=\"423.472\" y2=\"316.844\" stroke-linecap=\"round\" style=\"stroke:red;stroke-width:1\" /><line x1=\"423.472\" y1=\"316.844\" x2=\"423.939\" y2=\"316.606\" stroke-linecap=\"round\" style=\"stroke:red;stroke-width:1\" /><line x1=\"423.939\" y1=\"316.606\" x2=\"424.401\" y2=\"316.36\" stroke-linecap=\"round\" style=\"stroke:red;stroke-width:1\" /><line x1=\"424.401\" y1=\"316.36\" x2=\"424.859\" y2=\"316.106\" stroke-linecap=\"round\" style=\"stroke:red;stroke-width:1\" /><line x1=\"424.859\" y1=\"316.106\" x2=\"425.312\" y2=\"315.844\" stroke-linecap=\"round\" style=\"stroke:red;stroke-width:1\" /><line x1=\"425.312\" y1=\"315.844\" x2=\"425.761\" y2=\"315.574\" stroke-linecap=\"round\" style=\"stroke:red;stroke-width:1\" /><line x1=\"425.761\" y1=\"315.574\" x2=\"426.205\" y2=\"315.297\" stroke-linecap=\"round\" style=\"stroke:red;stroke-width:1\" /><line x1=\"426.205\" y1=\"315.297\" x2=\"426.644\" y2=\"315.012\" stroke-linecap=\"round\" style=\"stroke:red;stroke-width:1\" /><line x1=\"426.644\" y1=\"315.012\" x2=\"427.078\" y2=\"314.719\" stroke-linecap=\"round\" style=\"stroke:red;stroke-width:1\" /><line x1=\"427.078\" y1=\"314.719\" x2=\"427.507\" y2=\"314.419\" stroke-linecap=\"round\" style=\"stroke:red;stroke-width:1\" /><line x1=\"427.507\" y1=\"314.419\" x2=\"427.931\" y2=\"314.111\" stroke-linecap=\"round\" style=\"stroke:red;stroke-width:1\" /><line x1=\"427.931\" y1=\"314.111\" x2=\"428.349\" y2=\"313.796\" stroke-linecap=\"round\" style=\"stroke:red;stroke-width:1\" /><line x1=\"428.349\" y1=\"313.796\" x2=\"428.762\" y2=\"313.474\" stroke-linecap=\"round\" style=\"stroke:red;stroke-width:1\" /><line x1=\"428.762\" y1=\"313.474\" x2=\"429.169\" y2=\"313.144\" stroke-linecap=\"round\" style=\"stroke:red;stroke-width:1\" /><line x1=\"429.169\" y1=\"313.144\" x2=\"429.57\" y2=\"312.807\" stroke-linecap=\"round\" style=\"stroke:red;stroke-width:1\" /><line x1=\"429.57\" y1=\"312.807\" x2=\"429.965\" y2=\"312.463\" stroke-linecap=\"round\" style=\"stroke:red;stroke-width:1\" /><line x1=\"429.965\" y1=\"312.463\" x2=\"430.354\" y2=\"312.113\" stroke-linecap=\"round\" style=\"stroke:red;stroke-width:1\" /><line x1=\"430.354\" y1=\"312.113\" x2=\"430.737\" y2=\"311.756\" stroke-linecap=\"round\" style=\"stroke:red;stroke-width:1\" /><line x1=\"430.737\" y1=\"311.756\" x2=\"431.114\" y2=\"311.392\" stroke-linecap=\"round\" style=\"stroke:red;stroke-width:1\" /><line x1=\"431.114\" y1=\"311.392\" x2=\"431.484\" y2=\"311.022\" stroke-linecap=\"round\" style=\"stroke:red;stroke-width:1\" /><line x1=\"431.484\" y1=\"311.022\" x2=\"431.848\" y2=\"310.645\" stroke-linecap=\"round\" style=\"stroke:red;stroke-width:1\" /><line x1=\"431.848\" y1=\"310.645\" x2=\"432.205\" y2=\"310.262\" stroke-linecap=\"round\" style=\"stroke:red;stroke-width:1\" /><line x1=\"432.205\" y1=\"310.262\" x2=\"432.555\" y2=\"309.873\" stroke-linecap=\"round\" style=\"stroke:red;stroke-width:1\" /><line x1=\"432.555\" y1=\"309.873\" x2=\"432.899\" y2=\"309.478\" stroke-linecap=\"round\" style=\"stroke:red;stroke-width:1\" /><line x1=\"432.899\" y1=\"309.478\" x2=\"433.236\" y2=\"309.077\" stroke-linecap=\"round\" style=\"stroke:red;stroke-width:1\" /><line x1=\"433.236\" y1=\"309.077\" x2=\"433.566\" y2=\"308.67\" stroke-linecap=\"round\" style=\"stroke:red;stroke-width:1\" /><line x1=\"433.566\" y1=\"308.67\" x2=\"433.888\" y2=\"308.257\" stroke-linecap=\"round\" style=\"stroke:red;stroke-width:1\" /><line x1=\"433.888\" y1=\"308.257\" x2=\"434.203\" y2=\"307.839\" stroke-linecap=\"round\" style=\"stroke:red;stroke-width:1\" /><line x1=\"434.203\" y1=\"307.839\" x2=\"434.511\" y2=\"307.415\" stroke-linecap=\"round\" style=\"stroke:red;stroke-width:1\" /><line x1=\"434.511\" y1=\"307.415\" x2=\"434.811\" y2=\"306.986\" stroke-linecap=\"round\" style=\"stroke:red;stroke-width:1\" /><line x1=\"434.811\" y1=\"306.986\" x2=\"435.104\" y2=\"306.552\" stroke-linecap=\"round\" style=\"stroke:red;stroke-width:1\" /><line x1=\"435.104\" y1=\"306.552\" x2=\"435.389\" y2=\"306.113\" stroke-linecap=\"round\" style=\"stroke:red;stroke-width:1\" /><line x1=\"435.389\" y1=\"306.113\" x2=\"435.666\" y2=\"305.669\" stroke-linecap=\"round\" style=\"stroke:red;stroke-width:1\" /><line x1=\"435.666\" y1=\"305.669\" x2=\"435.936\" y2=\"305.22\" stroke-linecap=\"round\" style=\"stroke:red;stroke-width:1\" /><line x1=\"435.936\" y1=\"305.22\" x2=\"436.198\" y2=\"304.767\" stroke-linecap=\"round\" style=\"stroke:red;stroke-width:1\" /><line x1=\"436.198\" y1=\"304.767\" x2=\"436.452\" y2=\"304.309\" stroke-linecap=\"round\" style=\"stroke:red;stroke-width:1\" /><line x1=\"436.452\" y1=\"304.309\" x2=\"436.698\" y2=\"303.847\" stroke-linecap=\"round\" style=\"stroke:red;stroke-width:1\" /><line x1=\"436.698\" y1=\"303.847\" x2=\"436.936\" y2=\"303.38\" stroke-linecap=\"round\" style=\"stroke:red;stroke-width:1\" /><line x1=\"436.936\" y1=\"303.38\" x2=\"437.166\" y2=\"302.909\" stroke-linecap=\"round\" style=\"stroke:red;stroke-width:1\" /><line x1=\"437.166\" y1=\"302.909\" x2=\"437.387\" y2=\"302.434\" stroke-linecap=\"round\" style=\"stroke:red;stroke-width:1\" /><line x1=\"437.387\" y1=\"302.434\" x2=\"437.6\" y2=\"301.956\" stroke-linecap=\"round\" style=\"stroke:red;stroke-width:1\" /><line x1=\"437.6\" y1=\"301.956\" x2=\"437.805\" y2=\"301.474\" stroke-linecap=\"round\" style=\"stroke:red;stroke-width:1\" /><line x1=\"437.805\" y1=\"301.474\" x2=\"438.001\" y2=\"300.989\" stroke-linecap=\"round\" style=\"stroke:red;stroke-width:1\" /><line x1=\"438.001\" y1=\"300.989\" x2=\"438.189\" y2=\"300.5\" stroke-linecap=\"round\" style=\"stroke:red;stroke-width:1\" /><line x1=\"438.189\" y1=\"300.5\" x2=\"438.368\" y2=\"300.008\" stroke-linecap=\"round\" style=\"stroke:red;stroke-width:1\" /><line x1=\"438.368\" y1=\"300.008\" x2=\"438.538\" y2=\"299.513\" stroke-linecap=\"round\" style=\"stroke:red;stroke-width:1\" /><line x1=\"438.538\" y1=\"299.513\" x2=\"438.7\" y2=\"299.015\" stroke-linecap=\"round\" style=\"stroke:red;stroke-width:1\" /><line x1=\"438.7\" y1=\"299.015\" x2=\"438.853\" y2=\"298.514\" stroke-linecap=\"round\" style=\"stroke:red;stroke-width:1\" /><line x1=\"438.853\" y1=\"298.514\" x2=\"438.997\" y2=\"298.011\" stroke-linecap=\"round\" style=\"stroke:red;stroke-width:1\" /><line x1=\"438.997\" y1=\"298.011\" x2=\"439.133\" y2=\"297.505\" stroke-linecap=\"round\" style=\"stroke:red;stroke-width:1\" /><line x1=\"439.133\" y1=\"297.505\" x2=\"439.26\" y2=\"296.997\" stroke-linecap=\"round\" style=\"stroke:red;stroke-width:1\" /><line x1=\"439.26\" y1=\"296.997\" x2=\"439.378\" y2=\"296.487\" stroke-linecap=\"round\" style=\"stroke:red;stroke-width:1\" /><line x1=\"439.378\" y1=\"296.487\" x2=\"439.487\" y2=\"295.975\" stroke-linecap=\"round\" style=\"stroke:red;stroke-width:1\" /><line x1=\"439.487\" y1=\"295.975\" x2=\"439.587\" y2=\"295.461\" stroke-linecap=\"round\" style=\"stroke:red;stroke-width:1\" /><line x1=\"439.587\" y1=\"295.461\" x2=\"439.678\" y2=\"294.945\" stroke-linecap=\"round\" style=\"stroke:red;stroke-width:1\" /><line x1=\"439.678\" y1=\"294.945\" x2=\"439.76\" y2=\"294.428\" stroke-linecap=\"round\" style=\"stroke:red;stroke-width:1\" /><line x1=\"439.76\" y1=\"294.428\" x2=\"439.833\" y2=\"293.909\" stroke-linecap=\"round\" style=\"stroke:red;stroke-width:1\" /><line x1=\"439.833\" y1=\"293.909\" x2=\"439.897\" y2=\"293.389\" stroke-linecap=\"round\" style=\"stroke:red;stroke-width:1\" /><line x1=\"439.897\" y1=\"293.389\" x2=\"439.952\" y2=\"292.868\" stroke-linecap=\"round\" style=\"stroke:red;stroke-width:1\" /><line x1=\"439.952\" y1=\"292.868\" x2=\"439.998\" y2=\"292.346\" stroke-linecap=\"round\" style=\"stroke:red;stroke-width:1\" /><line x1=\"439.998\" y1=\"292.346\" x2=\"440.035\" y2=\"291.824\" stroke-linecap=\"round\" style=\"stroke:red;stroke-width:1\" /><line x1=\"440.035\" y1=\"291.824\" x2=\"440.062\" y2=\"291.301\" stroke-linecap=\"round\" style=\"stroke:red;stroke-width:1\" /><line x1=\"440.062\" y1=\"291.301\" x2=\"440.08\" y2=\"290.778\" stroke-linecap=\"round\" style=\"stroke:red;stroke-width:1\" /><line x1=\"440.08\" y1=\"290.778\" x2=\"440.089\" y2=\"290.254\" stroke-linecap=\"round\" style=\"stroke:red;stroke-width:1\" /><line x1=\"440.089\" y1=\"290.254\" x2=\"440.089\" y2=\"289.381\" stroke-linecap=\"round\" style=\"stroke:red;stroke-width:1\" /><line x1=\"440.089\" y1=\"289.381\" x2=\"440.074\" y2=\"288.508\" stroke-linecap=\"round\" style=\"stroke:red;stroke-width:1\" /><line x1=\"440.074\" y1=\"288.508\" x2=\"440.044\" y2=\"287.636\" stroke-linecap=\"round\" style=\"stroke:red;stroke-width:1\" /><line x1=\"440.044\" y1=\"287.636\" x2=\"439.998\" y2=\"286.765\" stroke-linecap=\"round\" style=\"stroke:red;stroke-width:1\" /><line x1=\"439.998\" y1=\"286.765\" x2=\"439.937\" y2=\"285.894\" stroke-linecap=\"round\" style=\"stroke:red;stroke-width:1\" /><line x1=\"439.937\" y1=\"285.894\" x2=\"439.861\" y2=\"285.025\" stroke-linecap=\"round\" style=\"stroke:red;stroke-width:1\" /><line x1=\"439.861\" y1=\"285.025\" x2=\"439.77\" y2=\"284.157\" stroke-linecap=\"round\" style=\"stroke:red;stroke-width:1\" /><line x1=\"439.77\" y1=\"284.157\" x2=\"439.664\" y2=\"283.291\" stroke-linecap=\"round\" style=\"stroke:red;stroke-width:1\" /><line x1=\"439.664\" y1=\"283.291\" x2=\"439.543\" y2=\"282.427\" stroke-linecap=\"round\" style=\"stroke:red;stroke-width:1\" /><line x1=\"439.543\" y1=\"282.427\" x2=\"439.406\" y2=\"281.565\" stroke-linecap=\"round\" style=\"stroke:red;stroke-width:1\" /><line x1=\"439.406\" y1=\"281.565\" x2=\"439.254\" y2=\"280.706\" stroke-linecap=\"round\" style=\"stroke:red;stroke-width:1\" /><line x1=\"439.254\" y1=\"280.706\" x2=\"439.087\" y2=\"279.849\" stroke-linecap=\"round\" style=\"stroke:red;stroke-width:1\" /><line x1=\"439.087\" y1=\"279.849\" x2=\"438.906\" y2=\"278.995\" stroke-linecap=\"round\" style=\"stroke:red;stroke-width:1\" /><line x1=\"438.906\" y1=\"278.995\" x2=\"438.71\" y2=\"278.145\" stroke-linecap=\"round\" style=\"stroke:red;stroke-width:1\" /><line x1=\"438.71\" y1=\"278.145\" x2=\"438.499\" y2=\"277.298\" stroke-linecap=\"round\" style=\"stroke:red;stroke-width:1\" /><line x1=\"438.499\" y1=\"277.298\" x2=\"438.273\" y2=\"276.455\" stroke-linecap=\"round\" style=\"stroke:red;stroke-width:1\" /><line x1=\"438.273\" y1=\"276.455\" x2=\"438.032\" y2=\"275.616\" stroke-linecap=\"round\" style=\"stroke:red;stroke-width:1\" /><line x1=\"438.032\" y1=\"275.616\" x2=\"437.777\" y2=\"274.781\" stroke-linecap=\"round\" style=\"stroke:red;stroke-width:1\" /><line x1=\"437.777\" y1=\"274.781\" x2=\"437.507\" y2=\"273.951\" stroke-linecap=\"round\" style=\"stroke:red;stroke-width:1\" /><line x1=\"437.507\" y1=\"273.951\" x2=\"437.223\" y2=\"273.126\" stroke-linecap=\"round\" style=\"stroke:red;stroke-width:1\" /><line x1=\"437.223\" y1=\"273.126\" x2=\"436.925\" y2=\"272.306\" stroke-linecap=\"round\" style=\"stroke:red;stroke-width:1\" /><line x1=\"436.925\" y1=\"272.306\" x2=\"436.612\" y2=\"271.491\" stroke-linecap=\"round\" style=\"stroke:red;stroke-width:1\" /><line x1=\"436.612\" y1=\"271.491\" x2=\"436.285\" y2=\"270.682\" stroke-linecap=\"round\" style=\"stroke:red;stroke-width:1\" /><line x1=\"436.285\" y1=\"270.682\" x2=\"435.944\" y2=\"269.879\" stroke-linecap=\"round\" style=\"stroke:red;stroke-width:1\" /><line x1=\"435.944\" y1=\"269.879\" x2=\"435.589\" y2=\"269.082\" stroke-linecap=\"round\" style=\"stroke:red;stroke-width:1\" /><line x1=\"435.589\" y1=\"269.082\" x2=\"435.22\" y2=\"268.291\" stroke-linecap=\"round\" style=\"stroke:red;stroke-width:1\" /><line x1=\"435.22\" y1=\"268.291\" x2=\"434.837\" y2=\"267.507\" stroke-linecap=\"round\" style=\"stroke:red;stroke-width:1\" /><line x1=\"434.837\" y1=\"267.507\" x2=\"434.441\" y2=\"266.729\" stroke-linecap=\"round\" style=\"stroke:red;stroke-width:1\" /><line x1=\"434.441\" y1=\"266.729\" x2=\"434.031\" y2=\"265.958\" stroke-linecap=\"round\" style=\"stroke:red;stroke-width:1\" /><line x1=\"434.031\" y1=\"265.958\" x2=\"433.608\" y2=\"265.195\" stroke-linecap=\"round\" style=\"stroke:red;stroke-width:1\" /><line x1=\"433.608\" y1=\"265.195\" x2=\"433.172\" y2=\"264.439\" stroke-linecap=\"round\" style=\"stroke:red;stroke-width:1\" /><line x1=\"433.172\" y1=\"264.439\" x2=\"432.723\" y2=\"263.691\" stroke-linecap=\"round\" style=\"stroke:red;stroke-width:1\" /><line x1=\"432.723\" y1=\"263.691\" x2=\"432.261\" y2=\"262.951\" stroke-linecap=\"round\" style=\"stroke:red;stroke-width:1\" /><line x1=\"432.261\" y1=\"262.951\" x2=\"431.786\" y2=\"262.219\" stroke-linecap=\"round\" style=\"stroke:red;stroke-width:1\" /><line x1=\"431.786\" y1=\"262.219\" x2=\"431.298\" y2=\"261.496\" stroke-linecap=\"round\" style=\"stroke:red;stroke-width:1\" /><line x1=\"431.298\" y1=\"261.496\" x2=\"430.797\" y2=\"260.781\" stroke-linecap=\"round\" style=\"stroke:red;stroke-width:1\" /><line x1=\"430.797\" y1=\"260.781\" x2=\"430.284\" y2=\"260.075\" stroke-linecap=\"round\" style=\"stroke:red;stroke-width:1\" /><line x1=\"430.284\" y1=\"260.075\" x2=\"429.759\" y2=\"259.378\" stroke-linecap=\"round\" style=\"stroke:red;stroke-width:1\" /><line x1=\"429.759\" y1=\"259.378\" x2=\"429.222\" y2=\"258.69\" stroke-linecap=\"round\" style=\"stroke:red;stroke-width:1\" /><line x1=\"429.222\" y1=\"258.69\" x2=\"428.673\" y2=\"258.012\" stroke-linecap=\"round\" style=\"stroke:red;stroke-width:1\" /><line x1=\"428.673\" y1=\"258.012\" x2=\"428.112\" y2=\"257.344\" stroke-linecap=\"round\" style=\"stroke:red;stroke-width:1\" /><line x1=\"428.112\" y1=\"257.344\" x2=\"427.539\" y2=\"256.685\" stroke-linecap=\"round\" style=\"stroke:red;stroke-width:1\" /><line x1=\"427.539\" y1=\"256.685\" x2=\"426.955\" y2=\"256.036\" stroke-linecap=\"round\" style=\"stroke:red;stroke-width:1\" /><line x1=\"426.955\" y1=\"256.036\" x2=\"426.36\" y2=\"255.398\" stroke-linecap=\"round\" style=\"stroke:red;stroke-width:1\" /><line x1=\"426.36\" y1=\"255.398\" x2=\"425.754\" y2=\"254.77\" stroke-linecap=\"round\" style=\"stroke:red;stroke-width:1\" /><line x1=\"425.754\" y1=\"254.77\" x2=\"425.137\" y2=\"254.153\" stroke-linecap=\"round\" style=\"stroke:red;stroke-width:1\" /><line x1=\"425.137\" y1=\"254.153\" x2=\"424.509\" y2=\"253.547\" stroke-linecap=\"round\" style=\"stroke:red;stroke-width:1\" /><line x1=\"424.509\" y1=\"253.547\" x2=\"423.871\" y2=\"252.952\" stroke-linecap=\"round\" style=\"stroke:red;stroke-width:1\" /><line x1=\"423.871\" y1=\"252.952\" x2=\"423.222\" y2=\"252.368\" stroke-linecap=\"round\" style=\"stroke:red;stroke-width:1\" /><line x1=\"423.222\" y1=\"252.368\" x2=\"422.563\" y2=\"251.795\" stroke-linecap=\"round\" style=\"stroke:red;stroke-width:1\" /><line x1=\"422.563\" y1=\"251.795\" x2=\"421.895\" y2=\"251.234\" stroke-linecap=\"round\" style=\"stroke:red;stroke-width:1\" /><line x1=\"421.895\" y1=\"251.234\" x2=\"421.217\" y2=\"250.685\" stroke-linecap=\"round\" style=\"stroke:red;stroke-width:1\" /><line x1=\"421.217\" y1=\"250.685\" x2=\"420.529\" y2=\"250.148\" stroke-linecap=\"round\" style=\"stroke:red;stroke-width:1\" /><line x1=\"420.529\" y1=\"250.148\" x2=\"419.832\" y2=\"249.623\" stroke-linecap=\"round\" style=\"stroke:red;stroke-width:1\" /><line x1=\"419.832\" y1=\"249.623\" x2=\"419.126\" y2=\"249.11\" stroke-linecap=\"round\" style=\"stroke:red;stroke-width:1\" /><line x1=\"419.126\" y1=\"249.11\" x2=\"418.411\" y2=\"248.609\" stroke-linecap=\"round\" style=\"stroke:red;stroke-width:1\" /><line x1=\"418.411\" y1=\"248.609\" x2=\"417.688\" y2=\"248.121\" stroke-linecap=\"round\" style=\"stroke:red;stroke-width:1\" /><line x1=\"417.688\" y1=\"248.121\" x2=\"416.956\" y2=\"247.646\" stroke-linecap=\"round\" style=\"stroke:red;stroke-width:1\" /><line x1=\"416.956\" y1=\"247.646\" x2=\"416.216\" y2=\"247.184\" stroke-linecap=\"round\" style=\"stroke:red;stroke-width:1\" /><line x1=\"416.216\" y1=\"247.184\" x2=\"415.468\" y2=\"246.735\" stroke-linecap=\"round\" style=\"stroke:red;stroke-width:1\" /><line x1=\"415.468\" y1=\"246.735\" x2=\"414.712\" y2=\"246.299\" stroke-linecap=\"round\" style=\"stroke:red;stroke-width:1\" /><line x1=\"414.712\" y1=\"246.299\" x2=\"413.949\" y2=\"245.876\" stroke-linecap=\"round\" style=\"stroke:red;stroke-width:1\" /><line x1=\"413.949\" y1=\"245.876\" x2=\"413.178\" y2=\"245.466\" stroke-linecap=\"round\" style=\"stroke:red;stroke-width:1\" /><line x1=\"413.178\" y1=\"245.466\" x2=\"412.4\" y2=\"245.07\" stroke-linecap=\"round\" style=\"stroke:red;stroke-width:1\" /><line x1=\"412.4\" y1=\"245.07\" x2=\"411.616\" y2=\"244.687\" stroke-linecap=\"round\" style=\"stroke:red;stroke-width:1\" /><line x1=\"411.616\" y1=\"244.687\" x2=\"410.825\" y2=\"244.318\" stroke-linecap=\"round\" style=\"stroke:red;stroke-width:1\" /><line x1=\"410.825\" y1=\"244.318\" x2=\"410.028\" y2=\"243.963\" stroke-linecap=\"round\" style=\"stroke:red;stroke-width:1\" /><line x1=\"410.028\" y1=\"243.963\" x2=\"409.225\" y2=\"243.622\" stroke-linecap=\"round\" style=\"stroke:red;stroke-width:1\" /><line x1=\"409.225\" y1=\"243.622\" x2=\"408.416\" y2=\"243.295\" stroke-linecap=\"round\" style=\"stroke:red;stroke-width:1\" /><line x1=\"408.416\" y1=\"243.295\" x2=\"407.601\" y2=\"242.982\" stroke-linecap=\"round\" style=\"stroke:red;stroke-width:1\" /><line x1=\"407.601\" y1=\"242.982\" x2=\"406.781\" y2=\"242.684\" stroke-linecap=\"round\" style=\"stroke:red;stroke-width:1\" /><line x1=\"406.781\" y1=\"242.684\" x2=\"405.956\" y2=\"242.4\" stroke-linecap=\"round\" style=\"stroke:red;stroke-width:1\" /><line x1=\"405.956\" y1=\"242.4\" x2=\"405.126\" y2=\"242.13\" stroke-linecap=\"round\" style=\"stroke:red;stroke-width:1\" /><line x1=\"405.126\" y1=\"242.13\" x2=\"404.291\" y2=\"241.875\" stroke-linecap=\"round\" style=\"stroke:red;stroke-width:1\" /><line x1=\"404.291\" y1=\"241.875\" x2=\"403.452\" y2=\"241.634\" stroke-linecap=\"round\" style=\"stroke:red;stroke-width:1\" /><line x1=\"403.452\" y1=\"241.634\" x2=\"402.609\" y2=\"241.408\" stroke-linecap=\"round\" style=\"stroke:red;stroke-width:1\" /><line x1=\"402.609\" y1=\"241.408\" x2=\"401.762\" y2=\"241.197\" stroke-linecap=\"round\" style=\"stroke:red;stroke-width:1\" /><line x1=\"401.762\" y1=\"241.197\" x2=\"400.912\" y2=\"241.001\" stroke-linecap=\"round\" style=\"stroke:red;stroke-width:1\" /><line x1=\"400.912\" y1=\"241.001\" x2=\"400.058\" y2=\"240.82\" stroke-linecap=\"round\" style=\"stroke:red;stroke-width:1\" /><line x1=\"400.058\" y1=\"240.82\" x2=\"399.201\" y2=\"240.653\" stroke-linecap=\"round\" style=\"stroke:red;stroke-width:1\" /><line x1=\"399.201\" y1=\"240.653\" x2=\"398.342\" y2=\"240.501\" stroke-linecap=\"round\" style=\"stroke:red;stroke-width:1\" /><line x1=\"398.342\" y1=\"240.501\" x2=\"397.48\" y2=\"240.364\" stroke-linecap=\"round\" style=\"stroke:red;stroke-width:1\" /><line x1=\"397.48\" y1=\"240.364\" x2=\"396.616\" y2=\"240.243\" stroke-linecap=\"round\" style=\"stroke:red;stroke-width:1\" /><line x1=\"396.616\" y1=\"240.243\" x2=\"395.75\" y2=\"240.137\" stroke-linecap=\"round\" style=\"stroke:red;stroke-width:1\" /><line x1=\"395.75\" y1=\"240.137\" x2=\"394.882\" y2=\"240.046\" stroke-linecap=\"round\" style=\"stroke:red;stroke-width:1\" /><line x1=\"394.882\" y1=\"240.046\" x2=\"394.013\" y2=\"239.97\" stroke-linecap=\"round\" style=\"stroke:red;stroke-width:1\" /><line x1=\"394.013\" y1=\"239.97\" x2=\"393.142\" y2=\"239.909\" stroke-linecap=\"round\" style=\"stroke:red;stroke-width:1\" /><line x1=\"393.142\" y1=\"239.909\" x2=\"392.271\" y2=\"239.863\" stroke-linecap=\"round\" style=\"stroke:red;stroke-width:1\" /><line x1=\"392.271\" y1=\"239.863\" x2=\"391.399\" y2=\"239.833\" stroke-linecap=\"round\" style=\"stroke:red;stroke-width:1\" /><line x1=\"391.399\" y1=\"239.833\" x2=\"390.526\" y2=\"239.818\" stroke-linecap=\"round\" style=\"stroke:red;stroke-width:1\" />\n",
              "        \n",
              "        \n",
              "        <g id=\"classic\" visibility=\"visible\" transform=\"rotate(90,390.526,239.818) translate(390.526, 239.818)\">\n",
              "<polygon points=\"-5,-4.5 0,-2.5 5,-4.5 0,4.5\" transform=\"skewX(0) scale(1,1)\" style=\"stroke:red;fill:black;stroke-width:1\" />\n",
              "</g>\n",
              "      </svg>\n",
              "    "
            ]
          },
          "metadata": {}
        },
        {
          "output_type": "stream",
          "name": "stdout",
          "text": [
            "Serie de fibonacci para os 5 elementos :\n",
            "1\n",
            "1\n",
            "2\n",
            "3\n",
            "5\n"
          ]
        }
      ]
    }
  ]
}