{
  "nbformat": 4,
  "nbformat_minor": 0,
  "metadata": {
    "colab": {
      "provenance": []
    },
    "kernelspec": {
      "name": "python3",
      "display_name": "Python 3"
    },
    "language_info": {
      "name": "python"
    }
  },
  "cells": [
    {
      "cell_type": "markdown",
      "source": [
        "Lista 1: Cinco exercícios que abordem os conceitos da primeira semana de aulas. Sendo esses conceitos, instalar o python ou se adpatar a alguma plataforma na nuvem como o Google Colab, ser capaz de definir variáveis e fazer operações básicas, definir funções simples e escrever módulos com o cuidado de organizar seus códigos.\n"
      ],
      "metadata": {
        "id": "A6c1r8wYmb7A"
      }
    },
    {
      "cell_type": "markdown",
      "source": [
        "Questão 1: \n",
        "\n",
        "1.Peça ao usuário para digitar o seu nome \\\\\n",
        "2.Peça ao usuário para digitar a sua idade \\\\\n",
        "3.Compute a idade do usuário daqui a 5 anos e\n",
        "imprima a mensagem como no exemplo abaixo:\n",
        "\n",
        "**Meu nome é Otto, tenho 29 anos, e daqui a 5 anos terei 34 anos**"
      ],
      "metadata": {
        "id": "E3TlYb_lGPRk"
      }
    },
    {
      "cell_type": "markdown",
      "source": [
        "Abordagem despretenciosa:"
      ],
      "metadata": {
        "id": "2I64X1jZPfZR"
      }
    },
    {
      "cell_type": "code",
      "source": [
        "#Defina a variável nome. Dica: A função input é responsável por criar uma interface com o usuário de modo a guardar uma variável string\n",
        "#Defina a variável idade. Dica: A função eval transforma as saídas da função input em inteiros\n",
        "#Crie outra variável que some 5 à variável idade\n",
        "#Concatene os elementos para criar a frase. Dica: as variáveis numéricas precisarão ser convertidas em strings\n",
        "#Imprima a frase utilizando a função print"
      ],
      "metadata": {
        "colab": {
          "base_uri": "https://localhost:8080/"
        },
        "id": "umSE2szBQb_g",
        "outputId": "3c052911-7777-4d21-b715-ab7bb271e466"
      },
      "execution_count": null,
      "outputs": [
        {
          "output_type": "stream",
          "name": "stdout",
          "text": [
            "Digite seu nome: Otto\n",
            "Digite sua idade: 29\n",
            "Meu nome é Otto, tenho 29 anos, e daqui a 5 anos terei 34 anos\n"
          ]
        }
      ]
    },
    {
      "cell_type": "markdown",
      "source": [
        "Abordagem mais cuidadosa"
      ],
      "metadata": {
        "id": "NLloNgm8PmyJ"
      }
    },
    {
      "cell_type": "code",
      "execution_count": null,
      "metadata": {
        "colab": {
          "base_uri": "https://localhost:8080/"
        },
        "id": "9Pqzm6IamVm6",
        "outputId": "203880fc-b430-4bd3-a3cf-1990d82a30c4"
      },
      "outputs": [
        {
          "output_type": "stream",
          "name": "stdout",
          "text": [
            "Digite seu nome: Otto\n",
            "Digite sua idade: 29\n",
            "Meu nome é Otto, tenho 29 anos, e daqui a 5 anos terei 34 anos\n"
          ]
        }
      ],
      "source": [
        "#Replique a tarefa anterior, porém manipulando as string com a função f{} e os atributos %() na construção da frase.\n",
        "#Imprima a frase"
      ]
    },
    {
      "cell_type": "markdown",
      "source": [
        "Questão 2:\n",
        "\n",
        "Escreva um programa que:\n",
        "\n",
        "1. Insira a base de um retângulo\n",
        "2. Insira a altura de um retângulo\n",
        "\n",
        "E retorne a seguinte frase: **Este retângulo tem área de xxx e perimetro de yyy**"
      ],
      "metadata": {
        "id": "5QSD_jq3Rcge"
      }
    },
    {
      "cell_type": "code",
      "source": [
        "#Utilize novamente a função input e a função eval para inserir a base do retangulo\n",
        "#Utilize novamente a função input e a função eval para inserir a altura do retangulo\n",
        "#Calcule a area do retangulo\n",
        "#Calcule o perimetro do retangulo\n",
        "#Construa a frase da maneira que preferir\n",
        "#Imprima a frase"
      ],
      "metadata": {
        "colab": {
          "base_uri": "https://localhost:8080/"
        },
        "id": "xALKk8IlSau6",
        "outputId": "a7e77424-b756-404d-fed0-7665e21c037e"
      },
      "execution_count": null,
      "outputs": [
        {
          "output_type": "stream",
          "name": "stdout",
          "text": [
            "Insira a base de um retângulo: 50\n",
            "Insira a altura de um retângulo: 10\n",
            "Este retângulo tem área de 500 e perímetro de 120\n"
          ]
        }
      ]
    },
    {
      "cell_type": "markdown",
      "source": [
        "Caso você já tenha familiaridade com bibliotecas python, importe uma biblioteca com operações matemáticas para realizar o seguinte exercício:\n",
        "\n",
        "Questão 2 (extra):\n",
        "\n",
        "Escreva um programa que:\n",
        "\n",
        "Insira a base de um triângulo retângulo\n",
        "Insira a altura de um triângulo retângulo\n",
        "\n",
        "E retorne a seguinte frase: **Este triangulo retângulo tem área de xxx e perimetro de yyy**\n"
      ],
      "metadata": {
        "id": "9e8biFSHkLim"
      }
    },
    {
      "cell_type": "code",
      "source": [
        "#Importe o modulo math para te auxiliar com funções matemáticas que lhe sejam úteis\n",
        "#Repita o processo de inserção de base e altura do triângulo retângulo, como feito com a etapa do retângulo\n",
        "#Identifique o valor do cateto que falta e calcule o perimetro do triangulo a partir desse valor\n",
        "#Crie a frase manipulando as strings seguindo sua preferência\n",
        "#Imprima a frase"
      ],
      "metadata": {
        "colab": {
          "base_uri": "https://localhost:8080/"
        },
        "id": "z88CMTrpkECK",
        "outputId": "e960aaf4-57fd-4695-ccc1-30c0c9ea598b"
      },
      "execution_count": null,
      "outputs": [
        {
          "output_type": "stream",
          "name": "stdout",
          "text": [
            "Insira a base de um retângulo: 8\n",
            "Insira a altura de um retângulo: 6\n",
            "Este retângulo tem área de 24.0 e perímetro de 24.0\n"
          ]
        }
      ]
    },
    {
      "cell_type": "markdown",
      "source": [
        "Questão 3:\n",
        "\n",
        "Escreva um programa que:\n",
        "\n",
        "1. Peça ao usuário que digite um montante em R$\n",
        "\n",
        "2. Se este montante for maior ou igual a 20000, imprima a mensagem:\n",
        "\n",
        "“Você pode comprar um carro”;\n",
        "\n",
        "Caso contrário imprima a mensagem :\n",
        "\n",
        "“Você ainda não pode comprar um carro”\n",
        "\n"
      ],
      "metadata": {
        "id": "7jfVVJdhhePP"
      }
    },
    {
      "cell_type": "code",
      "source": [
        "#Insira o valor do montante utilizando as funções input e eval\n",
        "#De posse da variável montante, construa a sentença if-else que atenda ao enunciado\n",
        "if ...:\n",
        "  print('...')\n",
        "else:\n",
        "  print('...')"
      ],
      "metadata": {
        "colab": {
          "base_uri": "https://localhost:8080/"
        },
        "id": "LJhiT_hdiSf5",
        "outputId": "6e2c1934-0762-4085-fb61-ae115aa42bda"
      },
      "execution_count": null,
      "outputs": [
        {
          "output_type": "stream",
          "name": "stdout",
          "text": [
            "Insira um montade em R$: 1\n",
            "Você ainda não pode comprar um carro\n"
          ]
        }
      ]
    },
    {
      "cell_type": "markdown",
      "source": [
        "Questão 4:\n",
        "\n",
        "Escreva um programa:\n",
        "\n",
        "1. Que peça o nome do usuário e um montante em reais.\n",
        "\n",
        "2. Se o montante é menor que R$ 20 mil reais, reporte: **Você ainda não pode comprar um carro**.\n",
        "\n",
        "3. Caso, seja maior que R$ 20 mil reais, prossiga e cheque se o nome do usuário pertence à lista pré-definida **[lourdes, jarbas, marta, cassandra]**.\n",
        "\n",
        "4. Caso não pertença, reporte **o usuário não está na base de dados**.\n",
        "\n",
        "5. Caso esteja na base de dados, consulte a lista de idades **[10, 25, 45, 16]** e verifique se o usuário é maior de 18 de anos.\n",
        "\n",
        "6. Caso seja, reporte, **você pode comprar um carro e dirigir**.\n",
        "\n",
        "7. Caso não seja, reporte, **você até pode comprar um carro mas não pode dirigir**.\n",
        "\n"
      ],
      "metadata": {
        "id": "doi2aDLfn4Ys"
      }
    },
    {
      "cell_type": "code",
      "source": [
        "#utilize função input para inserir nome\n",
        "#utilize função input e eval para inserir montante\n",
        "#defina a lista de clientes lourdes, jarbas, marta e cassandra\n",
        "#defina a lista de idades 10, 25, 45, 16\n",
        "#Dica: A função enumerate toma uma lista como entrada e retorna uma tupla com o indice e o elemento da lista em cada posicao\n",
        "#Ajuda: Utilizamos o for dentro da lista de modo a mostrar a potência das listas e utilizar for em contextos distintos, como é possivel ver na linha 3\n",
        "if ... > ...:\n",
        "  if ... in ...:\n",
        "    ... = [... for ..., ... in enumerate(...) if ... == ...]\n",
        "    ... = ...[...[0]]\n",
        "    if ... > ...:\n",
        "      print('Você pode comprar um carro e dirigir')\n",
        "    else:\n",
        "      print('Você até pode comprar um carro mas não pode dirigir')\n",
        "  else:\n",
        "    print('O usuário não está na base de dados')\n",
        "else:\n",
        "  print('Você ainda não pode comprar um carro')"
      ],
      "metadata": {
        "colab": {
          "base_uri": "https://localhost:8080/"
        },
        "id": "KbmSphbCpOBt",
        "outputId": "b7531b5a-af3d-4ef0-8004-727a19cc7de7"
      },
      "execution_count": null,
      "outputs": [
        {
          "output_type": "stream",
          "name": "stdout",
          "text": [
            "Insira seu nome: lourdes\n",
            "Insira um montade em R$: 1\n",
            "Você ainda não pode comprar um carro\n"
          ]
        }
      ]
    }
  ]
}