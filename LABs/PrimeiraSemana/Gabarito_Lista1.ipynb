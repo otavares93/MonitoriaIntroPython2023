{
  "nbformat": 4,
  "nbformat_minor": 0,
  "metadata": {
    "colab": {
      "provenance": []
    },
    "kernelspec": {
      "name": "python3",
      "display_name": "Python 3"
    },
    "language_info": {
      "name": "python"
    }
  },
  "cells": [
    {
      "cell_type": "markdown",
      "source": [
        "Lista 1: Cinco exercícios que abordem os conceitos da primeira semana de aulas. Sendo esses conceitos, instalar o python ou se adpatar a alguma plataforma na nuvem como o Google Colab, ser capaz de definir variáveis e fazer operações básicas, definir funções simples e escrever módulos com o cuidado de organizar seus códigos.\n"
      ],
      "metadata": {
        "id": "A6c1r8wYmb7A"
      }
    },
    {
      "cell_type": "markdown",
      "source": [
        "Questão 1: \n",
        "\n",
        "1.Peça ao usuário para digitar o seu nome \\\\\n",
        "2.Peça ao usuário para digitar a sua idade \\\\\n",
        "3.Compute a idade do usuário daqui a 5 anos e\n",
        "imprima a mensagem como no exemplo abaixo:\n",
        "\n",
        "**Meu nome é Otto, tenho 29 anos, e daqui a 5 anos terei 34 anos**"
      ],
      "metadata": {
        "id": "E3TlYb_lGPRk"
      }
    },
    {
      "cell_type": "markdown",
      "source": [
        "Abordagem despretenciosa:"
      ],
      "metadata": {
        "id": "2I64X1jZPfZR"
      }
    },
    {
      "cell_type": "code",
      "source": [
        "nome = input('Digite seu nome: ')\n",
        "idade = eval(input('Digite sua idade: '))\n",
        "idade_mais_5 = idade + 5\n",
        "frase = 'Meu nome é '+ nome + ', tenho ' + str(idade) +' anos, e daqui a 5 anos terei ' + str(idade_mais_5) +' anos'\n",
        "print(frase)\n"
      ],
      "metadata": {
        "colab": {
          "base_uri": "https://localhost:8080/"
        },
        "id": "umSE2szBQb_g",
        "outputId": "3c052911-7777-4d21-b715-ab7bb271e466"
      },
      "execution_count": null,
      "outputs": [
        {
          "output_type": "stream",
          "name": "stdout",
          "text": [
            "Digite seu nome: Otto\n",
            "Digite sua idade: 29\n",
            "Meu nome é Otto, tenho 29 anos, e daqui a 5 anos terei 34 anos\n"
          ]
        }
      ]
    },
    {
      "cell_type": "markdown",
      "source": [
        "Abordagem mais cuidadosa"
      ],
      "metadata": {
        "id": "NLloNgm8PmyJ"
      }
    },
    {
      "cell_type": "code",
      "execution_count": null,
      "metadata": {
        "colab": {
          "base_uri": "https://localhost:8080/"
        },
        "id": "9Pqzm6IamVm6",
        "outputId": "203880fc-b430-4bd3-a3cf-1990d82a30c4"
      },
      "outputs": [
        {
          "output_type": "stream",
          "name": "stdout",
          "text": [
            "Digite seu nome: Otto\n",
            "Digite sua idade: 29\n",
            "Meu nome é Otto, tenho 29 anos, e daqui a 5 anos terei 34 anos\n"
          ]
        }
      ],
      "source": [
        "nome = input('Digite seu nome: ')\n",
        "idade = eval(input('Digite sua idade: '))\n",
        "idade_mais_5 = idade + 5\n",
        "frase = f\"Meu nome é {nome}, tenho {idade} anos, e daqui a 5 anos terei {idade_mais_5} anos\"\n",
        "#frase = 'Meu nome é %s, tenho %s anos, e daqui a 5 anos terei %s anos' % (nome, idade, idade_mais_5)\n",
        "print(frase)"
      ]
    },
    {
      "cell_type": "markdown",
      "source": [
        "Questão 2:\n",
        "\n",
        "Escreva um programa que:\n",
        "\n",
        "1. Insira a base de um triângulo retângulo\n",
        "2. Insira a altura de um triângulo retângulo\n",
        "\n",
        "E retorne a seguinte frase: **Este retângulo tem área de xxx e perimetro de yyy**"
      ],
      "metadata": {
        "id": "5QSD_jq3Rcge"
      }
    },
    {
      "cell_type": "code",
      "source": [
        "base = eval(input('Insira a base de um retângulo: '))\n",
        "altura = eval(input('Insira a altura de um retângulo: '))\n",
        "area = base * altura\n",
        "perimetro = (2 * base) + (2 * altura)\n",
        "#frase = f\"Este retângulo tem área de {area} e perímetro de {perimetro}\"\n",
        "frase = 'Este retângulo tem área de %s e perímetro de %s' % (area, perimetro)\n",
        "print(frase)"
      ],
      "metadata": {
        "colab": {
          "base_uri": "https://localhost:8080/"
        },
        "id": "xALKk8IlSau6",
        "outputId": "5aa94ece-fcf3-43c9-fdcc-9dbbf003f895"
      },
      "execution_count": null,
      "outputs": [
        {
          "output_type": "stream",
          "name": "stdout",
          "text": [
            "Insira a base de um retângulo: 50\n",
            "Insira a altura de um retângulo: 10\n",
            "Este retângulo tem área de 500 e perímetro de 120\n"
          ]
        }
      ]
    },
    {
      "cell_type": "markdown",
      "source": [
        "Caso você já tenha familiaridade com bibliotecas python, importe uma biblioteca com operações matemáticas para realizar o seguinte exercício:\n",
        "\n",
        "Questão 2 (extra):\n",
        "\n",
        "Escreva um programa que:\n",
        "\n",
        "Insira a base de um triângulo retângulo\n",
        "Insira a altura de um triângulo retângulo\n",
        "\n",
        "E retorne a seguinte frase: **Este triangulo retângulo tem área de xxx e perimetro de yyy**\n"
      ],
      "metadata": {
        "id": "9e8biFSHkLim"
      }
    },
    {
      "cell_type": "code",
      "source": [
        "import math\n",
        "\n",
        "base = eval(input('Insira a base de um retângulo: '))\n",
        "altura = eval(input('Insira a altura de um retângulo: '))\n",
        "area = (base * altura) / 2\n",
        "soma_quadrados_catetos = (base**2) + (altura**2)\n",
        "perimetro = base + altura + math.sqrt( soma_quadrados_catetos )\n",
        "#frase = f\"Este retângulo tem área de {area} e perímetro de {perimetro}\"\n",
        "frase = 'Este triângulo retângulo tem área de %s e perímetro de %s' % (area, perimetro)\n",
        "print(frase)"
      ],
      "metadata": {
        "colab": {
          "base_uri": "https://localhost:8080/"
        },
        "id": "z88CMTrpkECK",
        "outputId": "ec519bb3-5411-4457-9282-6255f3cc65e1"
      },
      "execution_count": null,
      "outputs": [
        {
          "output_type": "stream",
          "name": "stdout",
          "text": [
            "Insira a base de um retângulo: 10\n",
            "Insira a altura de um retângulo: 8\n",
            "Este triângulo retângulo tem área de 40.0 e perímetro de 30.806248474865697\n"
          ]
        }
      ]
    },
    {
      "cell_type": "markdown",
      "source": [
        "Questão 3:\n",
        "\n",
        "Escreva um programa que:\n",
        "\n",
        "1. Peça ao usuário que digite um montante em R$\n",
        "\n",
        "2. Se este montante for maior ou igual a 20000, imprima a mensagem:\n",
        "\n",
        "“Você pode comprar um carro”;\n",
        "\n",
        "Caso contrário imprima a mensagem :\n",
        "\n",
        "“Você ainda não pode comprar um carro”\n",
        "\n"
      ],
      "metadata": {
        "id": "7jfVVJdhhePP"
      }
    },
    {
      "cell_type": "code",
      "source": [
        "montante = eval(input('Insira um montade em R$: '))\n",
        "if montante > 20000:\n",
        "  print('Você pode comprar um carro')\n",
        "else:\n",
        "  print('Você ainda não pode comprar um carro')"
      ],
      "metadata": {
        "colab": {
          "base_uri": "https://localhost:8080/"
        },
        "id": "LJhiT_hdiSf5",
        "outputId": "6e2c1934-0762-4085-fb61-ae115aa42bda"
      },
      "execution_count": null,
      "outputs": [
        {
          "output_type": "stream",
          "name": "stdout",
          "text": [
            "Insira um montade em R$: 1\n",
            "Você ainda não pode comprar um carro\n"
          ]
        }
      ]
    },
    {
      "cell_type": "markdown",
      "source": [
        "Questão 4:\n",
        "\n",
        "Escreva um programa:\n",
        "\n",
        "1. Que peça o nome do usuário e um montante em reais.\n",
        "\n",
        "2. Se o montante é menor que R$ 20 mil reais, reporte: **Você ainda não pode comprar um carro**.\n",
        "\n",
        "3. Caso, seja maior que R$ 20 mil reais, prossiga e cheque se o nome do usuário pertence à lista pré-definida **[lourdes, jarbas, marta, cassandra]**.\n",
        "\n",
        "4. Caso não pertença, reporte **o usuário não está na base de dados**.\n",
        "\n",
        "5. Caso esteja na base de dados, consulte a lista de idades **[10, 25, 45, 16]** e verifique se o usuário é maior de 18 de anos.\n",
        "\n",
        "6. Caso seja, reporte, **você pode comprar um carro e dirigir**.\n",
        "\n",
        "7. Caso não seja, reporte, **você até pode comprar um carro mas não pode dirigir**.\n",
        "\n"
      ],
      "metadata": {
        "id": "doi2aDLfn4Ys"
      }
    },
    {
      "cell_type": "markdown",
      "source": [
        "Exemplo da saída da função \"enumerate\""
      ],
      "metadata": {
        "id": "pLck-2SawOjr"
      }
    },
    {
      "cell_type": "code",
      "source": [
        "lista_clientes = ['lourdes', 'jarbas', 'marta', 'cassandra']\n",
        "for idx, nm in enumerate(lista_clientes):\n",
        "  print(idx)\n",
        "  print(nm)"
      ],
      "metadata": {
        "colab": {
          "base_uri": "https://localhost:8080/"
        },
        "id": "hPmsExytyxe_",
        "outputId": "1eea94d4-d3e4-4797-89c6-bdde08ee01ce"
      },
      "execution_count": null,
      "outputs": [
        {
          "output_type": "stream",
          "name": "stdout",
          "text": [
            "0\n",
            "lourdes\n",
            "1\n",
            "jarbas\n",
            "2\n",
            "marta\n",
            "3\n",
            "cassandra\n"
          ]
        }
      ]
    },
    {
      "cell_type": "code",
      "source": [
        "nome = input('Insira seu nome: ')\n",
        "montante = eval(input('Insira um montade em R$: '))\n",
        "lista_clientes = ['lourdes', 'jarbas', 'marta', 'cassandra']\n",
        "lista_idades =  [10, 25, 45, 16]\n",
        "if montante > 20000:\n",
        "  if nome in lista_clientes:\n",
        "    idade_idx = [idx for idx, nm in enumerate(lista_clientes) if nm == nome] \n",
        "    idade_cliente = lista_idades[idade_idx[0]]\n",
        "    if idade_cliente > 18:\n",
        "      print('Você pode comprar um carro e dirigir')\n",
        "    else:\n",
        "      print('Você até pode comprar um carro mas não pode dirigir')\n",
        "  else:\n",
        "    print('O usuário não está na base de dados')\n",
        "else:\n",
        "  print('Você ainda não pode comprar um carro')"
      ],
      "metadata": {
        "colab": {
          "base_uri": "https://localhost:8080/"
        },
        "id": "KbmSphbCpOBt",
        "outputId": "b7531b5a-af3d-4ef0-8004-727a19cc7de7"
      },
      "execution_count": null,
      "outputs": [
        {
          "output_type": "stream",
          "name": "stdout",
          "text": [
            "Insira seu nome: lourdes\n",
            "Insira um montade em R$: 1\n",
            "Você ainda não pode comprar um carro\n"
          ]
        }
      ]
    },
    {
      "cell_type": "markdown",
      "source": [
        "Solução simplificada gerada em sala de aula a partir de contribuição dos alunos"
      ],
      "metadata": {
        "id": "ISlolUfqwXCE"
      }
    },
    {
      "cell_type": "code",
      "source": [
        "nome = input('Insira seu nome: ')\n",
        "montante = eval(input('Insira um montade em R$: '))\n",
        "lista_clientes = ['lourdes', 'jarbas', 'marta', 'cassandra']\n",
        "lista_idades =  [10, 25, 45, 16]\n",
        "if montante > 20000:\n",
        "  if nome in lista_clientes:\n",
        "    idx = lista_clientes.index(nome)\n",
        "    idade_cliente = lista_idades[idx]\n",
        "    if idade_cliente > 18:\n",
        "      print('Você pode comprar um carro e dirigir')\n",
        "    else:\n",
        "      print('Você até pode comprar um carro mas não pode dirigir')\n",
        "  else:\n",
        "    print('O usuário não está na base de dados')\n",
        "else:\n",
        "  print('Você ainda não pode comprar um carro')"
      ],
      "metadata": {
        "colab": {
          "base_uri": "https://localhost:8080/"
        },
        "id": "7kkBl2T3x2Ff",
        "outputId": "bf029c7d-bc69-4570-92bb-4581a500cf22"
      },
      "execution_count": null,
      "outputs": [
        {
          "output_type": "stream",
          "name": "stdout",
          "text": [
            "Insira seu nome: lourdes\n",
            "Insira um montade em R$: 25000\n",
            "Você até pode comprar um carro mas não pode dirigir\n"
          ]
        }
      ]
    }
  ]
}